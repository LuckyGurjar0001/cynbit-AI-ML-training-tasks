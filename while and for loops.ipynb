{
 "cells": [
  {
   "cell_type": "code",
   "execution_count": 9,
   "id": "34354ad4-1668-4a38-a585-67db7364b1bf",
   "metadata": {},
   "outputs": [
    {
     "name": "stdout",
     "output_type": "stream",
     "text": [
      "1\n",
      "2\n",
      "3\n",
      "4\n",
      "5\n"
     ]
    }
   ],
   "source": [
    "i = 1\n",
    "while i < 6:\n",
    " print(i)\n",
    " i+=1\n"
   ]
  },
  {
   "cell_type": "code",
   "execution_count": 7,
   "id": "8eb378d9-d349-4c1c-8229-eebfd7102ec9",
   "metadata": {},
   "outputs": [
    {
     "name": "stdout",
     "output_type": "stream",
     "text": [
      "2\n",
      "3\n",
      "4\n",
      "5\n",
      "6\n",
      "7\n"
     ]
    }
   ],
   "source": [
    "i = 2\n",
    "while i < 8:\n",
    "  print(i)\n",
    "  i+=1"
   ]
  },
  {
   "cell_type": "code",
   "execution_count": 24,
   "id": "74d881e7-b16c-4523-95ab-5b018bc4fbc8",
   "metadata": {},
   "outputs": [
    {
     "name": "stdout",
     "output_type": "stream",
     "text": [
      "1\n",
      "2\n",
      "3\n"
     ]
    }
   ],
   "source": [
    "# break statement in the while loop\n",
    "i = 1\n",
    "while i < 6:\n",
    "  print(i)\n",
    "  if i == 3:\n",
    "    break\n",
    "  i += 1"
   ]
  },
  {
   "cell_type": "code",
   "execution_count": 42,
   "id": "2351809b-ee93-42e1-91a1-57063c564f63",
   "metadata": {},
   "outputs": [
    {
     "name": "stdout",
     "output_type": "stream",
     "text": [
      "1\n",
      "2\n",
      "3\n",
      "4\n",
      "6\n",
      "7\n"
     ]
    }
   ],
   "source": [
    "# continue statement in the while loop\n",
    "i = 0\n",
    "while i < 7:\n",
    "  i+=1\n",
    "  if i == 5:\n",
    "    continue\n",
    "  print(i)\n",
    "  "
   ]
  },
  {
   "cell_type": "code",
   "execution_count": 44,
   "id": "77150eca-72c3-4432-b192-f2ce25fcd558",
   "metadata": {},
   "outputs": [
    {
     "name": "stdout",
     "output_type": "stream",
     "text": [
      "1\n",
      "2\n",
      "3\n",
      "4\n",
      "i is no longer than 5\n"
     ]
    }
   ],
   "source": [
    "# else statement in the while loop\n",
    "i = 1\n",
    "while i < 5:\n",
    " print(i)\n",
    " i+=1\n",
    "else:\n",
    " print(\"i is no longer than 5\")"
   ]
  },
  {
   "cell_type": "code",
   "execution_count": 46,
   "id": "bfd1107d-bf5c-4f2e-968c-dc86e90ccd63",
   "metadata": {},
   "outputs": [
    {
     "name": "stdout",
     "output_type": "stream",
     "text": [
      "apple\n",
      "mango\n",
      "bannana\n"
     ]
    }
   ],
   "source": [
    "#for loop \n",
    "fruits = [\"apple\",\"mango\",\"bannana\"]\n",
    "for x in fruits:\n",
    "  print(x)"
   ]
  },
  {
   "cell_type": "code",
   "execution_count": 50,
   "id": "cfac1105-d87b-416c-8c00-b945493ad515",
   "metadata": {},
   "outputs": [
    {
     "name": "stdout",
     "output_type": "stream",
     "text": [
      "bannana\n",
      "mango\n"
     ]
    }
   ],
   "source": [
    "#for loop\n",
    "for x in \"bannana\" , \"mango\":\n",
    "  print(x)"
   ]
  },
  {
   "cell_type": "code",
   "execution_count": 58,
   "id": "4ed60edb-474f-4746-bbdb-d52595785208",
   "metadata": {},
   "outputs": [
    {
     "name": "stdout",
     "output_type": "stream",
     "text": [
      "papaya\n",
      "kiwi\n"
     ]
    }
   ],
   "source": [
    "# break in for loop\n",
    "fruits = [\"papaya\",\"kiwi\",\"watermelon\"]\n",
    "for x in fruits:\n",
    " print(x)\n",
    " if x == \"kiwi\":\n",
    "  break"
   ]
  },
  {
   "cell_type": "code",
   "execution_count": 60,
   "id": "82eb3ee9-3a8c-44b7-ad32-9d0b0add5489",
   "metadata": {},
   "outputs": [
    {
     "name": "stdout",
     "output_type": "stream",
     "text": [
      "first\n"
     ]
    }
   ],
   "source": [
    "# break in for loop\n",
    "grades = [\"first\",\"second\",\"thierd\"]\n",
    "for x in grades:\n",
    "  if x == \"second\":\n",
    "   break\n",
    "  print(x)\n",
    "  "
   ]
  },
  {
   "cell_type": "code",
   "execution_count": 62,
   "id": "93ca5e72-084e-463c-af3c-a8fe2c92cf42",
   "metadata": {},
   "outputs": [
    {
     "name": "stdout",
     "output_type": "stream",
     "text": [
      "panner\n",
      "soya\n",
      "yogurt\n"
     ]
    }
   ],
   "source": [
    "# break in for loops\n",
    "vegis = [\"panner\",\"soya\",\"yogurt\"]\n",
    "for x in vegis:\n",
    "  print(x)\n",
    "  if x == \"theird\":\n",
    "    break"
   ]
  },
  {
   "cell_type": "code",
   "execution_count": 66,
   "id": "9e1f90e9-21cb-46d2-b089-3c19c9d5ebb4",
   "metadata": {},
   "outputs": [
    {
     "name": "stdout",
     "output_type": "stream",
     "text": [
      "volvo\n",
      "bmw\n",
      "lambo\n"
     ]
    }
   ],
   "source": [
    "# countinue in for loop\n",
    "cars = [\"volvo\",\"bmw\",\"audi\",\"lambo\"]\n",
    "for x in cars:\n",
    " if x == \"audi\":\n",
    "    continue\n",
    " print(x)\n",
    " "
   ]
  },
  {
   "cell_type": "code",
   "execution_count": 68,
   "id": "5f82fce9-e989-47af-9cd9-344621489e41",
   "metadata": {},
   "outputs": [
    {
     "name": "stdout",
     "output_type": "stream",
     "text": [
      "zx10r\n",
      "s100rr\n",
      "z900\n",
      "panigalev4\n"
     ]
    }
   ],
   "source": [
    "# continue in for loop\n",
    "superbikes = [\"zx10r\",\"s100rr\",\"z900\",\"panigalev4\"]\n",
    "for x in superbikes:\n",
    "  print(x)\n",
    "  if x == \"panigalev4\":\n",
    "    continue\n",
    "    "
   ]
  },
  {
   "cell_type": "code",
   "execution_count": 72,
   "id": "2bd707bf-27ca-4b0c-bb3a-e2258d87ef18",
   "metadata": {},
   "outputs": [
    {
     "name": "stdout",
     "output_type": "stream",
     "text": [
      "0\n",
      "1\n",
      "2\n",
      "3\n",
      "4\n",
      "5\n",
      "6\n",
      "7\n",
      "8\n"
     ]
    }
   ],
   "source": [
    "# range function in for loop\n",
    "for x in range (9):\n",
    " print(x)"
   ]
  },
  {
   "cell_type": "code",
   "execution_count": 74,
   "id": "a3a84e6a-c657-44cf-ad1f-251b7948ff02",
   "metadata": {},
   "outputs": [
    {
     "name": "stdout",
     "output_type": "stream",
     "text": [
      "3\n",
      "4\n",
      "5\n",
      "6\n",
      "7\n",
      "8\n"
     ]
    }
   ],
   "source": [
    "# two range function in for loop\n",
    "for x in range (3,9):\n",
    "  print(x)"
   ]
  },
  {
   "cell_type": "code",
   "execution_count": 76,
   "id": "cdfc4576-a3c1-4b09-a77c-0844a8ec51c3",
   "metadata": {},
   "outputs": [
    {
     "name": "stdout",
     "output_type": "stream",
     "text": [
      "2\n",
      "6\n",
      "10\n",
      "14\n",
      "18\n",
      "22\n",
      "26\n"
     ]
    }
   ],
   "source": [
    "# three range function in for loop\n",
    "for x in range (2,28,4): # increament by 4\n",
    " print(x)"
   ]
  },
  {
   "cell_type": "code",
   "execution_count": 80,
   "id": "c307719a-825c-4a7e-b357-fe2a80487f91",
   "metadata": {},
   "outputs": [
    {
     "name": "stdout",
     "output_type": "stream",
     "text": [
      "0\n",
      "1\n",
      "2\n",
      "3\n",
      "4\n",
      "5\n",
      "finally finished\n"
     ]
    }
   ],
   "source": [
    "# range function used else in  for loop\n",
    "for x in range(6):\n",
    " print(x)\n",
    "else:\n",
    " print(\"finally finished\")"
   ]
  },
  {
   "cell_type": "code",
   "execution_count": 84,
   "id": "20f47241-42f6-4bcc-96f3-8d93bb71e8f0",
   "metadata": {},
   "outputs": [
    {
     "name": "stdout",
     "output_type": "stream",
     "text": [
      "0\n",
      "1\n",
      "2\n",
      "3\n",
      "4\n",
      "5\n",
      "6\n"
     ]
    }
   ],
   "source": [
    "# rnage function used break and else in for loop\n",
    "for x in range (9):\n",
    "  if x==7 : break\n",
    "  print(x)\n",
    "else:\n",
    "  print(\"finally finished\")"
   ]
  },
  {
   "cell_type": "code",
   "execution_count": 94,
   "id": "a720a54b-c545-4480-b400-e4691e8e27ab",
   "metadata": {},
   "outputs": [
    {
     "name": "stdout",
     "output_type": "stream",
     "text": [
      "0\n",
      "1\n",
      "2\n",
      "3\n",
      "4\n",
      "6\n",
      "7\n",
      "finally finished\n"
     ]
    }
   ],
   "source": [
    "# range function used continue and else in for loop\n",
    "for x in range(8):\n",
    "  if x==5 : continue\n",
    "  print(x)\n",
    "else:\n",
    "  print(\"finally finished\")"
   ]
  },
  {
   "cell_type": "code",
   "execution_count": 88,
   "id": "667094ee-20de-4553-90c1-1433b194f467",
   "metadata": {},
   "outputs": [
    {
     "name": "stdout",
     "output_type": "stream",
     "text": [
      "red apple\n",
      "red banana\n",
      "red cherry\n",
      "big apple\n",
      "big banana\n",
      "big cherry\n",
      "tasty apple\n",
      "tasty banana\n",
      "tasty cherry\n"
     ]
    }
   ],
   "source": [
    "adj = [\"red\", \"big\", \"tasty\"]\n",
    "fruits = [\"apple\", \"banana\", \"cherry\"]\n",
    "\n",
    "for x in adj:\n",
    "  for y in fruits:\n",
    "    print(x, y)"
   ]
  },
  {
   "cell_type": "code",
   "execution_count": 90,
   "id": "5dab39fc-ed53-4dbb-a421-560b938cf866",
   "metadata": {},
   "outputs": [
    {
     "name": "stdout",
     "output_type": "stream",
     "text": [
      "super ferrari\n",
      "super bmw\n",
      "super rubicon\n",
      "super creata\n",
      "sports ferrari\n",
      "sports bmw\n",
      "sports rubicon\n",
      "sports creata\n",
      "adventure ferrari\n",
      "adventure bmw\n",
      "adventure rubicon\n",
      "adventure creata\n",
      "normal ferrari\n",
      "normal bmw\n",
      "normal rubicon\n",
      "normal creata\n"
     ]
    }
   ],
   "source": [
    "car = [\"super\",\"sports\",\"adventure\",\"normal\"]\n",
    "names = [\"ferrari\",\"bmw\",\"rubicon\",\"creata\"]\n",
    "for x in car:\n",
    "  for y in names:\n",
    "    print(x, y)"
   ]
  },
  {
   "cell_type": "code",
   "execution_count": 92,
   "id": "f9827479-7d6b-49ca-97ab-a1d8440fcfa8",
   "metadata": {},
   "outputs": [],
   "source": [
    "# pass statement in for loop\n",
    "for x in [0, 1, 2]:\n",
    "  pass"
   ]
  },
  {
   "cell_type": "code",
   "execution_count": null,
   "id": "62c953b5-65f0-4007-a9ea-4c5e26a7d939",
   "metadata": {},
   "outputs": [],
   "source": []
  }
 ],
 "metadata": {
  "kernelspec": {
   "display_name": "Python [conda env:base] *",
   "language": "python",
   "name": "conda-base-py"
  },
  "language_info": {
   "codemirror_mode": {
    "name": "ipython",
    "version": 3
   },
   "file_extension": ".py",
   "mimetype": "text/x-python",
   "name": "python",
   "nbconvert_exporter": "python",
   "pygments_lexer": "ipython3",
   "version": "3.12.7"
  }
 },
 "nbformat": 4,
 "nbformat_minor": 5
}
