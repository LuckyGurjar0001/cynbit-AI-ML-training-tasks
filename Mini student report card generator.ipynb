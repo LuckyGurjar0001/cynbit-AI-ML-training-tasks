{
 "cells": [
  {
   "cell_type": "code",
   "execution_count": 1,
   "id": "7d4ed33c-ebe8-4dfa-a426-eddc64308a41",
   "metadata": {},
   "outputs": [
    {
     "name": "stdout",
     "output_type": "stream",
     "text": [
      "MINI STUDENT REPORT CARD GENERATOR:\n"
     ]
    },
    {
     "name": "stdin",
     "output_type": "stream",
     "text": [
      "\n",
      "Enter number of students:  2\n"
     ]
    },
    {
     "name": "stdout",
     "output_type": "stream",
     "text": [
      "\n",
      "Student 1:\n"
     ]
    },
    {
     "name": "stdin",
     "output_type": "stream",
     "text": [
      "Name:  lucky \n",
      "Math marks (0-100):  90\n",
      "Science marks (0-100):  90\n",
      "English marks (0-100):  90\n"
     ]
    },
    {
     "name": "stdout",
     "output_type": "stream",
     "text": [
      "\n",
      "Student 2:\n"
     ]
    },
    {
     "name": "stdin",
     "output_type": "stream",
     "text": [
      "Name:  lokesh\n",
      "Math marks (0-100):  0\n",
      "Science marks (0-100):  0\n",
      "English marks (0-100):  0\n"
     ]
    },
    {
     "name": "stdout",
     "output_type": "stream",
     "text": [
      "\n",
      " STUDENT RESULTS:\n",
      "\n",
      "Name: lucky \n",
      "Math: 90.0, Science: 90.0, English: 90.0\n",
      "Total: 270.0, Average: 90.0, Grade: A\n",
      "\n",
      "Name: lokesh\n",
      "Math: 0.0, Science: 0.0, English: 0.0\n",
      "Total: 0.0, Average: 0.0, Grade: Fail\n"
     ]
    },
    {
     "ename": "KeyError",
     "evalue": "'Fail'",
     "output_type": "error",
     "traceback": [
      "\u001b[1;31m---------------------------------------------------------------------------\u001b[0m",
      "\u001b[1;31mKeyError\u001b[0m                                  Traceback (most recent call last)",
      "Cell \u001b[1;32mIn[1], line 46\u001b[0m\n\u001b[0;32m     43\u001b[0m grade_counts \u001b[38;5;241m=\u001b[39m {\u001b[38;5;124m'\u001b[39m\u001b[38;5;124mA\u001b[39m\u001b[38;5;124m'\u001b[39m:\u001b[38;5;241m0\u001b[39m, \u001b[38;5;124m'\u001b[39m\u001b[38;5;124mB\u001b[39m\u001b[38;5;124m'\u001b[39m:\u001b[38;5;241m0\u001b[39m, \u001b[38;5;124m'\u001b[39m\u001b[38;5;124mC\u001b[39m\u001b[38;5;124m'\u001b[39m:\u001b[38;5;241m0\u001b[39m, \u001b[38;5;124m'\u001b[39m\u001b[38;5;124mD\u001b[39m\u001b[38;5;124m'\u001b[39m:\u001b[38;5;241m0\u001b[39m, \u001b[38;5;124m'\u001b[39m\u001b[38;5;124mF\u001b[39m\u001b[38;5;124m'\u001b[39m:\u001b[38;5;241m0\u001b[39m}\n\u001b[0;32m     45\u001b[0m \u001b[38;5;28;01mfor\u001b[39;00m student \u001b[38;5;129;01min\u001b[39;00m students:\n\u001b[1;32m---> 46\u001b[0m     grade_counts[student[\u001b[38;5;124m'\u001b[39m\u001b[38;5;124mGrade\u001b[39m\u001b[38;5;124m'\u001b[39m]] \u001b[38;5;241m+\u001b[39m\u001b[38;5;241m=\u001b[39m \u001b[38;5;241m1\u001b[39m\n",
      "\u001b[1;31mKeyError\u001b[0m: 'Fail'"
     ]
    }
   ],
   "source": [
    "import pandas as pd\n",
    "print(\"MINI STUDENT REPORT CARD GENERATOR:\")\n",
    "num_students = int(input(\"\\nEnter number of students: \"))\n",
    "students = []\n",
    "for i in range(num_students):\n",
    "    print(f\"\\nStudent {i+1}:\")\n",
    "    name = input(\"Name: \")\n",
    "    math = float(input(\"Math marks (0-100): \"))\n",
    "    science = float(input(\"Science marks (0-100): \"))\n",
    "    english = float(input(\"English marks (0-100): \"))\n",
    "    \n",
    "    total = math + science + english\n",
    "    average = total / 3\n",
    "    \n",
    "    if average >= 90:\n",
    "        grade = 'A'\n",
    "    elif average >= 80:\n",
    "        grade = 'B'\n",
    "    elif average >= 70:\n",
    "        grade = 'C'\n",
    "    elif average >= 60:\n",
    "        grade = 'D'\n",
    "    else:\n",
    "        grade = 'Fail'\n",
    "    \n",
    "    students.append({\n",
    "        \"Name\": name,\n",
    "        \"Math\": math,\n",
    "        \"Science\": science,\n",
    "        \"English\": english,\n",
    "        \"Total\": total,\n",
    "        \"Average\": average,\n",
    "        \"Grade\": grade\n",
    "    })\n",
    "\n",
    "print(\"\\n STUDENT RESULTS:\")\n",
    "for student in students:\n",
    "    print(f\"\\nName: {student['Name']}\")\n",
    "    print(f\"Math: {student['Math']}, Science: {student['Science']}, English: {student['English']}\")\n",
    "    print(f\"Total: {student['Total']}, Average: {student['Average']:.1f}, Grade: {student['Grade']}\")\n",
    "\n",
    "class_avg = sum(student['Average'] for student in students) / num_students\n",
    "grade_counts = {'A':0, 'B':0, 'C':0, 'D':0, 'F':0}\n",
    "\n",
    "for student in students:\n",
    "    grade_counts[student['Grade']] += 1\n"
   ]
  },
  {
   "cell_type": "code",
   "execution_count": null,
   "id": "c8163d9f-306e-49d4-8167-7aa1f948e043",
   "metadata": {},
   "outputs": [],
   "source": []
  }
 ],
 "metadata": {
  "kernelspec": {
   "display_name": "Python [conda env:base] *",
   "language": "python",
   "name": "conda-base-py"
  },
  "language_info": {
   "codemirror_mode": {
    "name": "ipython",
    "version": 3
   },
   "file_extension": ".py",
   "mimetype": "text/x-python",
   "name": "python",
   "nbconvert_exporter": "python",
   "pygments_lexer": "ipython3",
   "version": "3.12.7"
  }
 },
 "nbformat": 4,
 "nbformat_minor": 5
}
