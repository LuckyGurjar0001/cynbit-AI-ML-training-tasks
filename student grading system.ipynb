{
 "cells": [
  {
   "cell_type": "code",
   "execution_count": null,
   "id": "9c27b5f2-22fd-4c19-b779-8641e133ccf1",
   "metadata": {},
   "outputs": [
    {
     "name": "stdout",
     "output_type": "stream",
     "text": [
      "\n",
      " student grading\n"
     ]
    },
    {
     "name": "stdin",
     "output_type": "stream",
     "text": [
      "Enter your score (0-100)  84\n"
     ]
    },
    {
     "name": "stdout",
     "output_type": "stream",
     "text": [
      "Score: 84 = Grade: B\n",
      "\n",
      " student grading\n"
     ]
    }
   ],
   "source": [
    "while True:\n",
    "    print(\"\\n student grading system\")\n",
    "    score = input(\"Enter your score (0-100) \")\n",
    "    if score.isdigit():\n",
    "        score = int(score)\n",
    "        \n",
    "        if 0 <= score <= 100:\n",
    "            # Determine grade using conditionals\n",
    "            if score >= 90:\n",
    "                grade = 'A'\n",
    "            elif score >= 80:\n",
    "                grade = 'B'\n",
    "            elif score >= 70:\n",
    "                grade = 'C'\n",
    "            elif score >= 60:\n",
    "                grade = 'D'\n",
    "            else:\n",
    "                grade = 'F'\n",
    "            \n",
    "            print(f\"Score: {score} = Grade: {grade}\")\n",
    "        else:\n",
    "            print(\"Please enter a number between 0-100!\")\n",
    "    else:\n",
    "        print(\"Invalid input! Please enter a valid number\")"
   ]
  },
  {
   "cell_type": "code",
   "execution_count": null,
   "id": "92b6db53-445a-4573-92d3-bc0315244705",
   "metadata": {},
   "outputs": [],
   "source": []
  }
 ],
 "metadata": {
  "kernelspec": {
   "display_name": "Python [conda env:base] *",
   "language": "python",
   "name": "conda-base-py"
  },
  "language_info": {
   "codemirror_mode": {
    "name": "ipython",
    "version": 3
   },
   "file_extension": ".py",
   "mimetype": "text/x-python",
   "name": "python",
   "nbconvert_exporter": "python",
   "pygments_lexer": "ipython3",
   "version": "3.12.7"
  }
 },
 "nbformat": 4,
 "nbformat_minor": 5
}
