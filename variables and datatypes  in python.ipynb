{
 "cells": [
  {
   "cell_type": "code",
   "execution_count": 1,
   "id": "5310464c-a085-429b-9bb4-7b8a1df68653",
   "metadata": {},
   "outputs": [
    {
     "name": "stdout",
     "output_type": "stream",
     "text": [
      "10\n",
      "hello coder\n"
     ]
    }
   ],
   "source": [
    "x = 10\n",
    "y = \"hello coder\"\n",
    "print(x)\n",
    "print(y)"
   ]
  },
  {
   "cell_type": "code",
   "execution_count": 3,
   "id": "38276f79-21af-4f1b-9fda-ecc7240a1d29",
   "metadata": {},
   "outputs": [
    {
     "name": "stdout",
     "output_type": "stream",
     "text": [
      "3\n",
      "3\n",
      "3.0\n"
     ]
    }
   ],
   "source": [
    "x = str(3) # this print 3\n",
    "y = int(3) # also print 3\n",
    "z = float(3.0) # this print 3.0 because float is decimel type data type\n",
    "print(x)\n",
    "print(y)\n",
    "print(z)"
   ]
  },
  {
   "cell_type": "code",
   "execution_count": 5,
   "id": "810937aa-02b5-410f-b16c-e6aa5e6655d0",
   "metadata": {},
   "outputs": [
    {
     "name": "stdout",
     "output_type": "stream",
     "text": [
      "<class 'str'>\n",
      "<class 'int'>\n",
      "<class 'float'>\n"
     ]
    }
   ],
   "source": [
    "x = str(5)\n",
    "y = int(10)\n",
    "z = float(100)\n",
    "print(type(x))\n",
    "print(type(y))\n",
    "print(type(z))"
   ]
  },
  {
   "cell_type": "code",
   "execution_count": 7,
   "id": "80005dd0-8596-4454-8117-78a82dc51990",
   "metadata": {},
   "outputs": [],
   "source": [
    "# variable must follow that rule\n",
    "myvar = \"mark\"\n",
    "my_var = \"mark\"\n",
    "_my_var = \"mark\"\n",
    "myvar2 = \"mark\"\n",
    "MYVAR = \"mark\"\n",
    "myVar = \"mark\"\n",
    "#variables are case sensitive"
   ]
  },
  {
   "cell_type": "code",
   "execution_count": 11,
   "id": "1646fdff-90de-426e-bb5c-3aaed9b7fe02",
   "metadata": {},
   "outputs": [],
   "source": [
    "#multiwords variable use camel case\n",
    "myVariableName = \"john\"\n",
    "#multiwords variable use pascal case\n",
    "MyVariableName = \"john\"\n",
    "#multiwords variable use snake case\n",
    "my_variable_name = \"john\""
   ]
  },
  {
   "cell_type": "code",
   "execution_count": 13,
   "id": "da8ac590-6493-47cc-8376-eb17229134db",
   "metadata": {},
   "outputs": [
    {
     "name": "stdout",
     "output_type": "stream",
     "text": [
      "apple\n",
      "mango\n",
      "banana\n"
     ]
    }
   ],
   "source": [
    "x,y,z = \"apple\", \"mango\", \"banana\"\n",
    "print(x)\n",
    "print(y)\n",
    "print(z)"
   ]
  },
  {
   "cell_type": "code",
   "execution_count": 15,
   "id": "2f41c101-f5cd-4fc9-b587-47789bc760bf",
   "metadata": {},
   "outputs": [
    {
     "name": "stdout",
     "output_type": "stream",
     "text": [
      "strawberry\n",
      "strawberry\n",
      "strawberry\n"
     ]
    }
   ],
   "source": [
    "x = y = z = \"strawberry\"\n",
    "print(x)\n",
    "print(y)\n",
    "print(z)"
   ]
  },
  {
   "cell_type": "code",
   "execution_count": 17,
   "id": "142d759e-2884-4daa-8730-cec23790994a",
   "metadata": {},
   "outputs": [
    {
     "name": "stdout",
     "output_type": "stream",
     "text": [
      "kiwi\n",
      "watermelon\n",
      "muskmelon\n"
     ]
    }
   ],
   "source": [
    "fruits = [ \"kiwi\",\"watermelon\",\"muskmelon\"]\n",
    "x,y,z = fruits\n",
    "print(x)\n",
    "print(y)\n",
    "print(z)"
   ]
  },
  {
   "cell_type": "code",
   "execution_count": 19,
   "id": "55ff8ede-4a77-45ca-8c15-e485c5b89e9c",
   "metadata": {},
   "outputs": [
    {
     "name": "stdout",
     "output_type": "stream",
     "text": [
      "1111\n",
      "1111\n",
      "1111\n"
     ]
    }
   ],
   "source": [
    "a = b = c = \"1111\"\n",
    "print(a)\n",
    "print(b)\n",
    "print(c)"
   ]
  },
  {
   "cell_type": "code",
   "execution_count": 21,
   "id": "8d83866f-dea2-43c6-8d78-3d05afa11301",
   "metadata": {},
   "outputs": [
    {
     "name": "stdout",
     "output_type": "stream",
     "text": [
      "first\n",
      "second\n",
      "thierd\n"
     ]
    }
   ],
   "source": [
    "grades = [ \"first\",\"second\",\"thierd\"]\n",
    "a,b,c = grades\n",
    "print(a)\n",
    "print(b)\n",
    "print(c)"
   ]
  },
  {
   "cell_type": "code",
   "execution_count": 23,
   "id": "bce711b2-1163-4c1f-af36-6d316a75f6af",
   "metadata": {},
   "outputs": [
    {
     "name": "stdout",
     "output_type": "stream",
     "text": [
      " Hi Everyone my name is lucky\n"
     ]
    }
   ],
   "source": [
    "a = \" Hi Everyone my name is lucky\"\n",
    "print(a)"
   ]
  },
  {
   "cell_type": "code",
   "execution_count": 27,
   "id": "42ee0911-3ea8-4b5d-bea9-bc9580179e1a",
   "metadata": {},
   "outputs": [
    {
     "name": "stdout",
     "output_type": "stream",
     "text": [
      "universe is great\n"
     ]
    }
   ],
   "source": [
    "a = \"universe\"\n",
    "b = \"is\"\n",
    "c = \"great\"\n",
    "print(a,b,c)"
   ]
  },
  {
   "cell_type": "code",
   "execution_count": 31,
   "id": "ef86256f-d452-4c3d-bd78-c63ce035ab39",
   "metadata": {},
   "outputs": [
    {
     "name": "stdout",
     "output_type": "stream",
     "text": [
      "Jaipurisfabulous\n"
     ]
    }
   ],
   "source": [
    "a = \"Jaipur\"\n",
    "b = \"is\"\n",
    "c = \"fabulous\"\n",
    "print(a + b + c)"
   ]
  },
  {
   "cell_type": "code",
   "execution_count": 41,
   "id": "fa77c93a-4d76-4b8e-b2c6-fa074417fc95",
   "metadata": {},
   "outputs": [
    {
     "name": "stdout",
     "output_type": "stream",
     "text": [
      "python is awesome\n"
     ]
    }
   ],
   "source": [
    "x = \"awesome\"\n",
    "def myfunc():\n",
    "    print(\"python is \"  +x)\n",
    "myfunc()"
   ]
  },
  {
   "cell_type": "code",
   "execution_count": 51,
   "id": "69ed1321-46e0-428e-8319-44be3d22a8ce",
   "metadata": {},
   "outputs": [
    {
     "name": "stdout",
     "output_type": "stream",
     "text": [
      "python is fantastic\n"
     ]
    }
   ],
   "source": [
    "def myfunc():\n",
    "  global x # this is global variable\n",
    "x = \"fantastic\"\n",
    "myfunc()\n",
    "print(\"python is \" +x)\n"
   ]
  },
  {
   "cell_type": "code",
   "execution_count": 55,
   "id": "af0dd6f0-e6ce-4430-869f-adad7a616f1e",
   "metadata": {},
   "outputs": [
    {
     "ename": "SyntaxError",
     "evalue": "invalid syntax (930746102.py, line 2)",
     "output_type": "error",
     "traceback": [
      "\u001b[1;36m  Cell \u001b[1;32mIn[55], line 2\u001b[1;36m\u001b[0m\n\u001b[1;33m    Text Type:\tstr\u001b[0m\n\u001b[1;37m         ^\u001b[0m\n\u001b[1;31mSyntaxError\u001b[0m\u001b[1;31m:\u001b[0m invalid syntax\n"
     ]
    }
   ],
   "source": [
    "# lists of datatypes are in python\n",
    "Text Type:\tstr\n",
    "Numeric Types:\tint, float, complex\n",
    "Sequence Types:\tlist, tuple, range\n",
    "Mapping Type:\tdict\n",
    "Set Types:\tset, frozenset\n",
    "Boolean Type:\tbool\n",
    "Binary Types:\tbytes, bytearray, memoryview\n",
    "None Type:\tNoneType\n"
   ]
  },
  {
   "cell_type": "code",
   "execution_count": 63,
   "id": "06c6abfc-883c-4d2e-9ce5-72a03ad84854",
   "metadata": {},
   "outputs": [
    {
     "ename": "SyntaxError",
     "evalue": "':' expected after dictionary key (355904367.py, line 9)",
     "output_type": "error",
     "traceback": [
      "\u001b[1;36m  Cell \u001b[1;32mIn[63], line 9\u001b[1;36m\u001b[0m\n\u001b[1;33m    x = {\"name\" : \"lucky\",\"lokesh\",\"lalit\", : 18} #dict\u001b[0m\n\u001b[1;37m                                 ^\u001b[0m\n\u001b[1;31mSyntaxError\u001b[0m\u001b[1;31m:\u001b[0m ':' expected after dictionary key\n"
     ]
    }
   ],
   "source": [
    "# how to assign that datatypes in variables\n",
    "x = \"hello world \" #str\n",
    "x = 20 #int \n",
    "x = 20.0 #float\n",
    "x = 1j #complex\n",
    "x = [\"apple\",\"papaya\",\"mango\"] #list\n",
    "x = (\"apple\",\"papaya\",\"mango\") #tuple\n",
    "x = range(8) #range\n",
    "x = {\"name\" : \"lucky\",\"lokesh\",\"lalit\" : 18} #dict\n",
    "x = {\"apple\",\"manog\",\"papaya\"} #set\n",
    "x = frozenset ({ \"apple\", \"mango\", \"bannana\"}) #frozenset\n",
    "x = true\n",
    "x = b\"helll\"\n",
    "x = bytearray(5)\t#bytearray\t\n",
    "x = memoryview(bytes(5))\t#memoryview\t\n",
    "x = None\t#NoneType\n",
    "\n"
   ]
  },
  {
   "cell_type": "code",
   "execution_count": 65,
   "id": "08dd2aea-2e4f-4705-9f29-85845498f487",
   "metadata": {},
   "outputs": [],
   "source": [
    "x = str(\"Hello World\")\t#str\t\n",
    "x = int(20)\t#int\t\n",
    "x = float(20.5)\t#float\t\n",
    "x = complex(1j)\t#complex\t\n",
    "x = list((\"apple\", \"banana\", \"cherry\"))\t#list\t\n",
    "x = tuple((\"apple\", \"banana\", \"cherry\"))\t#tuple\t\n",
    "x = range(6)\t#range\t\n",
    "x = dict(name=\"John\", age=36)\t#dict\t\n",
    "x = set((\"apple\", \"banana\", \"cherry\"))\t#set\t\n",
    "x = frozenset((\"apple\", \"banana\", \"cherry\"))\t#frozenset\t\n",
    "x = bool(5)\t#bool\t\n",
    "x = bytes(5)\t#bytes\t\n",
    "x = bytearray(5)\t#bytearray\t\n",
    "x = memoryview(bytes(5))\t#memoryview"
   ]
  },
  {
   "cell_type": "code",
   "execution_count": 67,
   "id": "06b82cf4-6c62-4f52-85e6-6a6647e6bd06",
   "metadata": {},
   "outputs": [
    {
     "name": "stdout",
     "output_type": "stream",
     "text": [
      "<class 'int'>\n",
      "<class 'int'>\n",
      "<class 'int'>\n"
     ]
    }
   ],
   "source": [
    "# use numbers in int , float , complex\n",
    "x = 22\n",
    "y = 2488383\n",
    "z = -2938327\n",
    "print(type(x))\n",
    "print(type(y))\n",
    "print(type(z))\n",
    "      "
   ]
  },
  {
   "cell_type": "code",
   "execution_count": 69,
   "id": "f21cf580-3f6d-4bf2-a6ce-5478d80e28ef",
   "metadata": {},
   "outputs": [
    {
     "name": "stdout",
     "output_type": "stream",
     "text": [
      "<class 'float'>\n",
      "<class 'float'>\n",
      "<class 'float'>\n"
     ]
    }
   ],
   "source": [
    "#float \n",
    "x = 38.39\n",
    "y = 85.3933\n",
    "z = -29.39292\n",
    "print(type(x))\n",
    "print(type(y))\n",
    "print(type(z))"
   ]
  },
  {
   "cell_type": "code",
   "execution_count": 75,
   "id": "1a9ce773-3248-4a46-9d9d-cf43772d87e6",
   "metadata": {},
   "outputs": [
    {
     "name": "stdout",
     "output_type": "stream",
     "text": [
      "<class 'complex'>\n",
      "<class 'complex'>\n",
      "<class 'complex'>\n"
     ]
    }
   ],
   "source": [
    "#complex\n",
    "x = 1j\n",
    "y = 2j\n",
    "z = 3j\n",
    "print(type(x))\n",
    "print(type(y))\n",
    "print(type(z))\n"
   ]
  },
  {
   "cell_type": "code",
   "execution_count": 77,
   "id": "816c5918-106e-4f34-94b8-333b1a85bab9",
   "metadata": {},
   "outputs": [
    {
     "name": "stdout",
     "output_type": "stream",
     "text": [
      "38\n",
      "10.38\n",
      "3j\n",
      "<class 'int'>\n",
      "<class 'float'>\n",
      "<class 'complex'>\n"
     ]
    }
   ],
   "source": [
    "x = 38\n",
    "y = 10.38\n",
    "z = 3j\n",
    "a = int(x) #convert int to float \n",
    "b = float(y) # float to int\n",
    "c = complex(z) # int to complex\n",
    "print(a)\n",
    "print(b)\n",
    "print(c)\n",
    "print(type(x))\n",
    "print(type(y))\n",
    "print(type(z))\n",
    "      "
   ]
  },
  {
   "cell_type": "code",
   "execution_count": 81,
   "id": "76133397-2faf-4c12-862b-8475e3704e66",
   "metadata": {},
   "outputs": [
    {
     "name": "stdout",
     "output_type": "stream",
     "text": [
      "2\n",
      "3\n",
      "20\n"
     ]
    }
   ],
   "source": [
    "#casting : basically casting used for specify the data types that means if there  you define float then you specify int so use (int)\n",
    "x = int(2)\n",
    "y = int(3.0)\n",
    "z = int(20)\n",
    "print(x)\n",
    "print(y)\n",
    "print(z)"
   ]
  },
  {
   "cell_type": "code",
   "execution_count": 85,
   "id": "c7e2dd1b-1978-4bd9-b2a5-e62b1cea26ee",
   "metadata": {},
   "outputs": [
    {
     "name": "stdout",
     "output_type": "stream",
     "text": [
      "2.0\n",
      "3.0\n",
      "-22.0\n"
     ]
    }
   ],
   "source": [
    "x = float(2)\n",
    "y = float(3.0)\n",
    "z = float(-22)\n",
    "print(x)\n",
    "print(y)\n",
    "print(z)"
   ]
  },
  {
   "cell_type": "code",
   "execution_count": 91,
   "id": "90c733ee-f20c-4c1a-812b-d32858fd55f7",
   "metadata": {},
   "outputs": [
    {
     "name": "stdout",
     "output_type": "stream",
     "text": [
      "2j\n",
      "6\n",
      "hell\n"
     ]
    }
   ],
   "source": [
    "x = str(2j)\n",
    "y = str(3+3)\n",
    "z = str(\"hell\")\n",
    "print(x)\n",
    "print(y)\n",
    "print(z)"
   ]
  },
  {
   "cell_type": "code",
   "execution_count": null,
   "id": "e850d681-dfb5-494f-95ef-71afc5ee587c",
   "metadata": {},
   "outputs": [],
   "source": []
  }
 ],
 "metadata": {
  "kernelspec": {
   "display_name": "Python [conda env:base] *",
   "language": "python",
   "name": "conda-base-py"
  },
  "language_info": {
   "codemirror_mode": {
    "name": "ipython",
    "version": 3
   },
   "file_extension": ".py",
   "mimetype": "text/x-python",
   "name": "python",
   "nbconvert_exporter": "python",
   "pygments_lexer": "ipython3",
   "version": "3.12.7"
  }
 },
 "nbformat": 4,
 "nbformat_minor": 5
}
