{
 "cells": [
  {
   "cell_type": "code",
   "execution_count": 1,
   "id": "e15ebad1-f112-4f55-8a1f-f316683f1495",
   "metadata": {},
   "outputs": [
    {
     "name": "stdout",
     "output_type": "stream",
     "text": [
      "MINI STUDENT REPORT CARD GENERATOR:\n"
     ]
    },
    {
     "name": "stdin",
     "output_type": "stream",
     "text": [
      "\n",
      "Enter number of students:  2\n"
     ]
    },
    {
     "name": "stdout",
     "output_type": "stream",
     "text": [
      "\n",
      "Student 1:\n"
     ]
    },
    {
     "name": "stdin",
     "output_type": "stream",
     "text": [
      "Name:  lucky\n",
      "Math marks (0-100):  90\n",
      "Science marks (0-100):  90\n",
      "English marks (0-100):  90\n"
     ]
    },
    {
     "name": "stdout",
     "output_type": "stream",
     "text": [
      "\n",
      "Student 2:\n"
     ]
    },
    {
     "name": "stdin",
     "output_type": "stream",
     "text": [
      "Name:  lokesh\n",
      "Math marks (0-100):  90\n",
      "Science marks (0-100):  90\n",
      "English marks (0-100):  90\n"
     ]
    },
    {
     "name": "stdout",
     "output_type": "stream",
     "text": [
      "\n",
      " REPORT CARD \n",
      "\n",
      "Student Results:\n",
      "\n",
      "Name: lucky\n",
      "Math: 90.0, Science: 90.0, English: 90.0\n",
      "Total: 270.0, Average: 90.0, Grade: A\n",
      "\n",
      "Name: lokesh\n",
      "Math: 90.0, Science: 90.0, English: 90.0\n",
      "Total: 270.0, Average: 90.0, Grade: A\n"
     ]
    }
   ],
   "source": [
    "import pandas as pd\n",
    "def calculate_grade(average):\n",
    "    if average >= 90:\n",
    "        return 'A'\n",
    "    elif average >= 80:\n",
    "        return 'B'\n",
    "    elif average >= 70:\n",
    "        return 'C'\n",
    "    elif average >= 60:\n",
    "        return 'D'\n",
    "    else:\n",
    "        return 'Fail'\n",
    "\n",
    "def main():\n",
    "    print(\"MINI STUDENT REPORT CARD GENERATOR:\")\n",
    "    \n",
    "    num_students = int(input(\"\\nEnter number of students: \"))\n",
    "    \n",
    "    students = []\n",
    "    \n",
    "    for i in range(num_students):\n",
    "        print(f\"\\nStudent {i+1}:\")\n",
    "        name = input(\"Name: \")\n",
    "        math = float(input(\"Math marks (0-100): \"))\n",
    "        science = float(input(\"Science marks (0-100): \"))\n",
    "        english = float(input(\"English marks (0-100): \"))\n",
    "        \n",
    "        total = math + science + english\n",
    "        average = total / 3\n",
    "        grade = calculate_grade(average)\n",
    "        \n",
    "        students.append({\n",
    "            'Name': name,\n",
    "            'Math': math,\n",
    "            'Science': science,\n",
    "            'English': english,\n",
    "            'Total': total,\n",
    "            'Average': average,\n",
    "            'Grade': grade\n",
    "        })\n",
    "    \n",
    "    print(\"\\n REPORT CARD \")\n",
    "    print(\"\\nStudent Results:\")\n",
    "    for student in students:\n",
    "        print(f\"\\nName: {student['Name']}\")\n",
    "        print(f\"Math: {student['Math']}, Science: {student['Science']}, English: {student['English']}\")\n",
    "        print(f\"Total: {student['Total']}, Average: {student['Average']:.1f}, Grade: {student['Grade']}\")\n",
    "    \n",
    "    class_avg = sum(student['Average'] for student in students) / num_students\n",
    "    grades = [student['Grade'] for student in students]\n",
    "\n",
    "if __name__ == \"__main__\":\n",
    "    main()"
   ]
  },
  {
   "cell_type": "code",
   "execution_count": null,
   "id": "6c5761b2-4477-49ae-9a43-0ab6a8a5c781",
   "metadata": {},
   "outputs": [],
   "source": []
  }
 ],
 "metadata": {
  "kernelspec": {
   "display_name": "Python [conda env:base] *",
   "language": "python",
   "name": "conda-base-py"
  },
  "language_info": {
   "codemirror_mode": {
    "name": "ipython",
    "version": 3
   },
   "file_extension": ".py",
   "mimetype": "text/x-python",
   "name": "python",
   "nbconvert_exporter": "python",
   "pygments_lexer": "ipython3",
   "version": "3.12.7"
  }
 },
 "nbformat": 4,
 "nbformat_minor": 5
}
