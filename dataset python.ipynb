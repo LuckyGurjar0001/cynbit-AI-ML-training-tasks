{
 "cells": [
  {
   "cell_type": "code",
   "execution_count": 1,
   "id": "a75027f2-77e0-4fbd-9fec-77f5e165276f",
   "metadata": {},
   "outputs": [],
   "source": [
    "import pandas as pd"
   ]
  },
  {
   "cell_type": "code",
   "execution_count": 3,
   "id": "5c54b26c-79d3-4199-aa82-911fdbd270f4",
   "metadata": {},
   "outputs": [],
   "source": [
    "data = {\n",
    "    'name': ['lucky','lokesh','lalit', 'kunal'],\n",
    "    'age': [ 18 , 19 ,20 , 21],\n",
    "    'city': ['jaipur', 'pali', 'mountabu', 'ajmer']\n",
    "}              "
   ]
  },
  {
   "cell_type": "code",
   "execution_count": 5,
   "id": "2be7e790-75c9-4ebd-8dad-f9d9d5eff355",
   "metadata": {},
   "outputs": [],
   "source": [
    "df = pd.DataFrame(data)"
   ]
  },
  {
   "cell_type": "code",
   "execution_count": 7,
   "id": "6f3c044a-7b0b-40ab-96ee-ee71d9a0a728",
   "metadata": {},
   "outputs": [
    {
     "name": "stdout",
     "output_type": "stream",
     "text": [
      "     name  age      city\n",
      "0   lucky   18    jaipur\n",
      "1  lokesh   19      pali\n",
      "2   lalit   20  mountabu\n",
      "3   kunal   21     ajmer\n"
     ]
    }
   ],
   "source": [
    "print(df)"
   ]
  },
  {
   "cell_type": "code",
   "execution_count": null,
   "id": "cdb61b81-8ebb-4a21-a09f-2c4e75d24bd9",
   "metadata": {},
   "outputs": [],
   "source": []
  }
 ],
 "metadata": {
  "kernelspec": {
   "display_name": "Python [conda env:base] *",
   "language": "python",
   "name": "conda-base-py"
  },
  "language_info": {
   "codemirror_mode": {
    "name": "ipython",
    "version": 3
   },
   "file_extension": ".py",
   "mimetype": "text/x-python",
   "name": "python",
   "nbconvert_exporter": "python",
   "pygments_lexer": "ipython3",
   "version": "3.12.7"
  }
 },
 "nbformat": 4,
 "nbformat_minor": 5
}
