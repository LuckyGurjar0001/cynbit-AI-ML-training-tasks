{
 "cells": [
  {
   "cell_type": "markdown",
   "id": "571603ab-689f-4a5f-bf77-d169261a774c",
   "metadata": {},
   "source": [
    "# #create a student recommendation system to recommended the course according to student needed:"
   ]
  },
  {
   "cell_type": "code",
   "execution_count": 2,
   "id": "49c5d480-974a-4f6b-a529-0ce793f730f2",
   "metadata": {},
   "outputs": [],
   "source": [
    "import pandas as pd\n",
    "from sklearn.feature_extraction.text import TfidfVectorizer\n",
    "from sklearn.metrics.pairwise import cosine_similarity"
   ]
  },
  {
   "cell_type": "code",
   "execution_count": 3,
   "id": "98bd3e6d-8dc7-41a8-971a-8bb91526d0d2",
   "metadata": {},
   "outputs": [],
   "source": [
    "# create our own dataset for students:\n",
    "data ={\n",
    "    \"Students\":[\"lucky\",\"lokesh\",\"lalit\",\"kunal\",\"lakshay\",\"rudranshu\",\n",
    "                \"ishank\",\"ishant\",\"kritik\",\"manoj\",\"mahipal\",\"shubham\"],\n",
    "   \n",
    "   \"Interested domains\": [\n",
    "        \"Data science, Data Analysis\",\n",
    "        \"Machine Learning, Python, Math\",\n",
    "        \"Web Development, JavaScript, HTML\",\n",
    "        \"Blockchain, Cryptocurrency, Security\",\n",
    "        \"Data Science, Statistics, Python\",\n",
    "        \"AI, Neural Networks, Deep Learning\",\n",
    "        \"Web Development, CSS, Design\",\n",
    "        \"Game Development, C#, Unity\",\n",
    "        \"Cybersecurity, Ethical Hacking\",\n",
    "        \"Mobile Development, Swift, iOS\",\n",
    "        \"DSA with c++,DSA with java\",\n",
    "        \"typescript,node.js,express.js\"\n",
    "    ]\n",
    "}\n",
    "df = pd.DataFrame(data)"
   ]
  },
  {
   "cell_type": "code",
   "execution_count": 4,
   "id": "53b59b81-f7ab-4743-816b-931515bafe62",
   "metadata": {},
   "outputs": [
    {
     "data": {
      "text/html": [
       "<div>\n",
       "<style scoped>\n",
       "    .dataframe tbody tr th:only-of-type {\n",
       "        vertical-align: middle;\n",
       "    }\n",
       "\n",
       "    .dataframe tbody tr th {\n",
       "        vertical-align: top;\n",
       "    }\n",
       "\n",
       "    .dataframe thead th {\n",
       "        text-align: right;\n",
       "    }\n",
       "</style>\n",
       "<table border=\"1\" class=\"dataframe\">\n",
       "  <thead>\n",
       "    <tr style=\"text-align: right;\">\n",
       "      <th></th>\n",
       "      <th>Students</th>\n",
       "      <th>Interested domains</th>\n",
       "    </tr>\n",
       "  </thead>\n",
       "  <tbody>\n",
       "    <tr>\n",
       "      <th>0</th>\n",
       "      <td>lucky</td>\n",
       "      <td>Data science, Data Analysis</td>\n",
       "    </tr>\n",
       "    <tr>\n",
       "      <th>1</th>\n",
       "      <td>lokesh</td>\n",
       "      <td>Machine Learning, Python, Math</td>\n",
       "    </tr>\n",
       "    <tr>\n",
       "      <th>2</th>\n",
       "      <td>lalit</td>\n",
       "      <td>Web Development, JavaScript, HTML</td>\n",
       "    </tr>\n",
       "    <tr>\n",
       "      <th>3</th>\n",
       "      <td>kunal</td>\n",
       "      <td>Blockchain, Cryptocurrency, Security</td>\n",
       "    </tr>\n",
       "    <tr>\n",
       "      <th>4</th>\n",
       "      <td>lakshay</td>\n",
       "      <td>Data Science, Statistics, Python</td>\n",
       "    </tr>\n",
       "    <tr>\n",
       "      <th>5</th>\n",
       "      <td>rudranshu</td>\n",
       "      <td>AI, Neural Networks, Deep Learning</td>\n",
       "    </tr>\n",
       "    <tr>\n",
       "      <th>6</th>\n",
       "      <td>ishank</td>\n",
       "      <td>Web Development, CSS, Design</td>\n",
       "    </tr>\n",
       "    <tr>\n",
       "      <th>7</th>\n",
       "      <td>ishant</td>\n",
       "      <td>Game Development, C#, Unity</td>\n",
       "    </tr>\n",
       "    <tr>\n",
       "      <th>8</th>\n",
       "      <td>kritik</td>\n",
       "      <td>Cybersecurity, Ethical Hacking</td>\n",
       "    </tr>\n",
       "    <tr>\n",
       "      <th>9</th>\n",
       "      <td>manoj</td>\n",
       "      <td>Mobile Development, Swift, iOS</td>\n",
       "    </tr>\n",
       "    <tr>\n",
       "      <th>10</th>\n",
       "      <td>mahipal</td>\n",
       "      <td>DSA with c++,DSA with java</td>\n",
       "    </tr>\n",
       "    <tr>\n",
       "      <th>11</th>\n",
       "      <td>shubham</td>\n",
       "      <td>typescript,node.js,express.js</td>\n",
       "    </tr>\n",
       "  </tbody>\n",
       "</table>\n",
       "</div>"
      ],
      "text/plain": [
       "     Students                    Interested domains\n",
       "0       lucky           Data science, Data Analysis\n",
       "1      lokesh        Machine Learning, Python, Math\n",
       "2       lalit     Web Development, JavaScript, HTML\n",
       "3       kunal  Blockchain, Cryptocurrency, Security\n",
       "4     lakshay      Data Science, Statistics, Python\n",
       "5   rudranshu    AI, Neural Networks, Deep Learning\n",
       "6      ishank          Web Development, CSS, Design\n",
       "7      ishant           Game Development, C#, Unity\n",
       "8      kritik        Cybersecurity, Ethical Hacking\n",
       "9       manoj        Mobile Development, Swift, iOS\n",
       "10    mahipal            DSA with c++,DSA with java\n",
       "11    shubham         typescript,node.js,express.js"
      ]
     },
     "execution_count": 4,
     "metadata": {},
     "output_type": "execute_result"
    }
   ],
   "source": [
    "df"
   ]
  },
  {
   "cell_type": "code",
   "execution_count": 42,
   "id": "f969703a-a50b-43b8-82b1-43e9835a1911",
   "metadata": {},
   "outputs": [],
   "source": [
    "# use of TF - IDF + cosine similarity or even manual matching\n",
    "tfidf = TfidfVectorizer()\n",
    "interest_matrix = tfidf.fit_transform(df['Interested domains'])\n",
    "\n",
    "similarity = cosine_similarity(interest_matrix)\n"
   ]
  },
  {
   "cell_type": "code",
   "execution_count": 22,
   "id": "567bb2de-5758-4a50-9bc3-df2db536e7a4",
   "metadata": {},
   "outputs": [
    {
     "name": "stdout",
     "output_type": "stream",
     "text": [
      "Vocabulary (Feature Names):\n",
      "['ai' 'analysis' 'blockchain' 'cryptocurrency' 'css' 'cybersecurity'\n",
      " 'data' 'deep' 'design' 'development' 'dsa' 'ethical' 'express' 'game'\n",
      " 'hacking' 'html' 'ios' 'java' 'javascript' 'js' 'learning' 'machine'\n",
      " 'math' 'mobile' 'networks' 'neural' 'node' 'python' 'science' 'security'\n",
      " 'statistics' 'swift' 'typescript' 'unity' 'web' 'with']\n"
     ]
    }
   ],
   "source": [
    "print(\"Vocabulary (Feature Names):\")\n",
    "print(tfidf.get_feature_names_out())"
   ]
  },
  {
   "cell_type": "code",
   "execution_count": 18,
   "id": "4e22d1f2-d461-40a3-a060-042ee2f23456",
   "metadata": {},
   "outputs": [],
   "source": [
    "# Step 3: Recommendation function\n",
    "def recommend_courses(name):\n",
    "    idx = df[df['Students'] == name].index[0]\n",
    "    scores = list(enumerate(similarity[idx]))\n",
    "    sorted_scores = sorted(scores, key=lambda x: x[1], reverse=True)\n",
    "    top_matches = sorted_scores[1:4] \n",
    "    return df.iloc[[i[0] for i in top_matches]]"
   ]
  },
  {
   "cell_type": "code",
   "execution_count": 24,
   "id": "eaeef5df-7727-45a1-8cef-ebc07dc7d6f9",
   "metadata": {},
   "outputs": [
    {
     "name": "stdout",
     "output_type": "stream",
     "text": [
      "Recommendations for lucky (data science):\n"
     ]
    },
    {
     "data": {
      "text/html": [
       "<div>\n",
       "<style scoped>\n",
       "    .dataframe tbody tr th:only-of-type {\n",
       "        vertical-align: middle;\n",
       "    }\n",
       "\n",
       "    .dataframe tbody tr th {\n",
       "        vertical-align: top;\n",
       "    }\n",
       "\n",
       "    .dataframe thead th {\n",
       "        text-align: right;\n",
       "    }\n",
       "</style>\n",
       "<table border=\"1\" class=\"dataframe\">\n",
       "  <thead>\n",
       "    <tr style=\"text-align: right;\">\n",
       "      <th></th>\n",
       "      <th>Students</th>\n",
       "      <th>Interested domains</th>\n",
       "    </tr>\n",
       "  </thead>\n",
       "  <tbody>\n",
       "    <tr>\n",
       "      <th>4</th>\n",
       "      <td>lakshay</td>\n",
       "      <td>Data Science, Statistics, Python</td>\n",
       "    </tr>\n",
       "    <tr>\n",
       "      <th>1</th>\n",
       "      <td>lokesh</td>\n",
       "      <td>Machine Learning, Python, Math</td>\n",
       "    </tr>\n",
       "    <tr>\n",
       "      <th>2</th>\n",
       "      <td>lalit</td>\n",
       "      <td>Web Development, JavaScript, HTML</td>\n",
       "    </tr>\n",
       "  </tbody>\n",
       "</table>\n",
       "</div>"
      ],
      "text/plain": [
       "  Students                 Interested domains\n",
       "4  lakshay   Data Science, Statistics, Python\n",
       "1   lokesh     Machine Learning, Python, Math\n",
       "2    lalit  Web Development, JavaScript, HTML"
      ]
     },
     "execution_count": 24,
     "metadata": {},
     "output_type": "execute_result"
    }
   ],
   "source": [
    "print(\"Recommendations for lucky (data science):\")\n",
    "recommend_courses(\"lucky\")"
   ]
  }
 ],
 "metadata": {
  "kernelspec": {
   "display_name": "Python [conda env:base] *",
   "language": "python",
   "name": "conda-base-py"
  },
  "language_info": {
   "codemirror_mode": {
    "name": "ipython",
    "version": 3
   },
   "file_extension": ".py",
   "mimetype": "text/x-python",
   "name": "python",
   "nbconvert_exporter": "python",
   "pygments_lexer": "ipython3",
   "version": "3.12.7"
  }
 },
 "nbformat": 4,
 "nbformat_minor": 5
}
