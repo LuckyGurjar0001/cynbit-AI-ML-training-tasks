{
 "cells": [
  {
   "cell_type": "code",
   "execution_count": 40,
   "id": "affc2cd3-e0e3-47ba-8dae-0414bfa6f64d",
   "metadata": {},
   "outputs": [],
   "source": [
    "import pandas as pd\n",
    "from sklearn.preprocessing import LabelEncoder,MinMaxScaler,StandardScaler\n",
    "import seaborn as sns\n",
    "import matplotlib.pyplot as plt"
   ]
  },
  {
   "cell_type": "code",
   "execution_count": 17,
   "id": "b89ef7dc-d1a3-4bbb-87cc-8038eae13826",
   "metadata": {},
   "outputs": [],
   "source": [
    "# that our own data from the students only added genders\n",
    "data = {\n",
    "    'Name': ['khushi', 'lokesh', 'lalit', 'kunal', 'ishika'],\n",
    "    'Math': [85, 72, 91, 68, 77],\n",
    "    'Science': [90, 78, 88, 72, 84],\n",
    "    'English': [82, 85, 79, 70, 88],\n",
    "    'Gender': ['F', 'M', 'M', 'M', 'F'],\n",
    "    'Grade': ['A', 'B', 'A', 'C', 'B']\n",
    "}\n",
    "df=pd.DataFrame(data)"
   ]
  },
  {
   "cell_type": "code",
   "execution_count": 19,
   "id": "934f1260-afb3-42b8-8210-0259fd0fbf0c",
   "metadata": {},
   "outputs": [
    {
     "data": {
      "text/html": [
       "<div>\n",
       "<style scoped>\n",
       "    .dataframe tbody tr th:only-of-type {\n",
       "        vertical-align: middle;\n",
       "    }\n",
       "\n",
       "    .dataframe tbody tr th {\n",
       "        vertical-align: top;\n",
       "    }\n",
       "\n",
       "    .dataframe thead th {\n",
       "        text-align: right;\n",
       "    }\n",
       "</style>\n",
       "<table border=\"1\" class=\"dataframe\">\n",
       "  <thead>\n",
       "    <tr style=\"text-align: right;\">\n",
       "      <th></th>\n",
       "      <th>Name</th>\n",
       "      <th>Math</th>\n",
       "      <th>Science</th>\n",
       "      <th>English</th>\n",
       "      <th>Gender</th>\n",
       "      <th>Grade</th>\n",
       "    </tr>\n",
       "  </thead>\n",
       "  <tbody>\n",
       "    <tr>\n",
       "      <th>0</th>\n",
       "      <td>khushi</td>\n",
       "      <td>85</td>\n",
       "      <td>90</td>\n",
       "      <td>82</td>\n",
       "      <td>F</td>\n",
       "      <td>A</td>\n",
       "    </tr>\n",
       "    <tr>\n",
       "      <th>1</th>\n",
       "      <td>lokesh</td>\n",
       "      <td>72</td>\n",
       "      <td>78</td>\n",
       "      <td>85</td>\n",
       "      <td>M</td>\n",
       "      <td>B</td>\n",
       "    </tr>\n",
       "    <tr>\n",
       "      <th>2</th>\n",
       "      <td>lalit</td>\n",
       "      <td>91</td>\n",
       "      <td>88</td>\n",
       "      <td>79</td>\n",
       "      <td>M</td>\n",
       "      <td>A</td>\n",
       "    </tr>\n",
       "    <tr>\n",
       "      <th>3</th>\n",
       "      <td>kunal</td>\n",
       "      <td>68</td>\n",
       "      <td>72</td>\n",
       "      <td>70</td>\n",
       "      <td>M</td>\n",
       "      <td>C</td>\n",
       "    </tr>\n",
       "    <tr>\n",
       "      <th>4</th>\n",
       "      <td>ishika</td>\n",
       "      <td>77</td>\n",
       "      <td>84</td>\n",
       "      <td>88</td>\n",
       "      <td>F</td>\n",
       "      <td>B</td>\n",
       "    </tr>\n",
       "  </tbody>\n",
       "</table>\n",
       "</div>"
      ],
      "text/plain": [
       "     Name  Math  Science  English Gender Grade\n",
       "0  khushi    85       90       82      F     A\n",
       "1  lokesh    72       78       85      M     B\n",
       "2   lalit    91       88       79      M     A\n",
       "3   kunal    68       72       70      M     C\n",
       "4  ishika    77       84       88      F     B"
      ]
     },
     "execution_count": 19,
     "metadata": {},
     "output_type": "execute_result"
    }
   ],
   "source": [
    "df"
   ]
  },
  {
   "cell_type": "markdown",
   "id": "e2f70707-8f1f-4cb2-97d6-6f7f7922c959",
   "metadata": {},
   "source": [
    "# 1.create new columns from existing ones (feature creation):\n"
   ]
  },
  {
   "cell_type": "code",
   "execution_count": 22,
   "id": "f7c0b09a-31af-403c-ae3e-8837e2b7846d",
   "metadata": {},
   "outputs": [
    {
     "name": "stdout",
     "output_type": "stream",
     "text": [
      "\n",
      "After Adding Total & Average:\n",
      "     Name  Total    Average\n",
      "0  khushi    257  85.666667\n",
      "1  lokesh    235  78.333333\n",
      "2   lalit    258  86.000000\n",
      "3   kunal    210  70.000000\n",
      "4  ishika    249  83.000000\n"
     ]
    }
   ],
   "source": [
    "df['Total'] = df[['Math', 'Science', 'English']].sum(axis=1, min_count=2)  # At least 2 subjects present\n",
    "df['Average'] = df['Total'] / 3\n",
    "print(\"\\nAfter Adding Total & Average:\")\n",
    "print(df[['Name', 'Total', 'Average']])"
   ]
  },
  {
   "cell_type": "markdown",
   "id": "95b76e38-f7e9-4198-8746-8321907d8fdf",
   "metadata": {},
   "source": [
    "# 2.Encode categorical data (covert text to numbers):"
   ]
  },
  {
   "cell_type": "code",
   "execution_count": 25,
   "id": "576c5a67-9ada-4e2f-8576-ab15cd11bb26",
   "metadata": {},
   "outputs": [
    {
     "name": "stdout",
     "output_type": "stream",
     "text": [
      "\n",
      " After Encoding:\n",
      "     Name Gender  Gender_code Grade  Grade_code\n",
      "0  khushi      F            0     A           0\n",
      "1  lokesh      M            1     B           1\n",
      "2   lalit      M            1     A           0\n",
      "3   kunal      M            1     C           2\n",
      "4  ishika      F            0     B           1\n"
     ]
    }
   ],
   "source": [
    "df[\"Gender_code\"]=df[\"Gender\"].map({\"M\":1,\"F\":0})\n",
    "#le = label encoder \n",
    "le = LabelEncoder()\n",
    "df[\"Grade_code\"] = le.fit_transform(df[\"Grade\"].fillna(\"Unknown\"))\n",
    "\n",
    "print(\"\\n After Encoding:\")\n",
    "print(df[[\"Name\",\"Gender\",\"Gender_code\",\"Grade\",\"Grade_code\"]])\n"
   ]
  },
  {
   "cell_type": "markdown",
   "id": "d9dfd42d-7bb4-4e81-ba22-5cc239aecb66",
   "metadata": {},
   "source": [
    "# 3.Handle missing values:"
   ]
  },
  {
   "cell_type": "code",
   "execution_count": 28,
   "id": "77102ce4-05d1-4a73-b1ed-83204d016ba1",
   "metadata": {},
   "outputs": [
    {
     "name": "stdout",
     "output_type": "stream",
     "text": [
      "\n",
      "After Handling Missing Values:\n",
      "     Name  Math  Science  English Gender Grade  Total    Average  Gender_code  \\\n",
      "0  khushi    85       90       82      F     A    257  85.666667            0   \n",
      "1  lokesh    72       78       85      M     B    235  78.333333            1   \n",
      "2   lalit    91       88       79      M     A    258  86.000000            1   \n",
      "3   kunal    68       72       70      M     C    210  70.000000            1   \n",
      "4  ishika    77       84       88      F     B    249  83.000000            0   \n",
      "\n",
      "   Grade_code  \n",
      "0           0  \n",
      "1           1  \n",
      "2           0  \n",
      "3           2  \n",
      "4           1  \n"
     ]
    },
    {
     "name": "stderr",
     "output_type": "stream",
     "text": [
      "C:\\Users\\DELL\\AppData\\Local\\Temp\\ipykernel_23556\\2251686979.py:1: FutureWarning: A value is trying to be set on a copy of a DataFrame or Series through chained assignment using an inplace method.\n",
      "The behavior will change in pandas 3.0. This inplace method will never work because the intermediate object on which we are setting values always behaves as a copy.\n",
      "\n",
      "For example, when doing 'df[col].method(value, inplace=True)', try using 'df.method({col: value}, inplace=True)' or df[col] = df[col].method(value) instead, to perform the operation inplace on the original object.\n",
      "\n",
      "\n",
      "  df['Math'].fillna(df['Math'].mean(), inplace=True)\n",
      "C:\\Users\\DELL\\AppData\\Local\\Temp\\ipykernel_23556\\2251686979.py:2: FutureWarning: A value is trying to be set on a copy of a DataFrame or Series through chained assignment using an inplace method.\n",
      "The behavior will change in pandas 3.0. This inplace method will never work because the intermediate object on which we are setting values always behaves as a copy.\n",
      "\n",
      "For example, when doing 'df[col].method(value, inplace=True)', try using 'df.method({col: value}, inplace=True)' or df[col] = df[col].method(value) instead, to perform the operation inplace on the original object.\n",
      "\n",
      "\n",
      "  df['Science'].fillna(df['Science'].mean(), inplace=True)\n",
      "C:\\Users\\DELL\\AppData\\Local\\Temp\\ipykernel_23556\\2251686979.py:3: FutureWarning: A value is trying to be set on a copy of a DataFrame or Series through chained assignment using an inplace method.\n",
      "The behavior will change in pandas 3.0. This inplace method will never work because the intermediate object on which we are setting values always behaves as a copy.\n",
      "\n",
      "For example, when doing 'df[col].method(value, inplace=True)', try using 'df.method({col: value}, inplace=True)' or df[col] = df[col].method(value) instead, to perform the operation inplace on the original object.\n",
      "\n",
      "\n",
      "  df['English'].fillna(df['English'].mean(), inplace=True)\n"
     ]
    }
   ],
   "source": [
    "df['Math'].fillna(df['Math'].mean(), inplace=True)\n",
    "df['Science'].fillna(df['Science'].mean(), inplace=True)\n",
    "df['English'].fillna(df['English'].mean(), inplace=True)\n",
    "\n",
    "# Drop rows with missing grades (optional)\n",
    "df.dropna(subset=['Grade'], inplace=True)\n",
    "\n",
    "print(\"\\nAfter Handling Missing Values:\")\n",
    "print(df)"
   ]
  },
  {
   "cell_type": "markdown",
   "id": "b08fd32c-c36e-4fda-8a48-cd48b430c6b8",
   "metadata": {},
   "source": [
    "# 4.Correlation Matrix (find the hidden relationship):"
   ]
  },
  {
   "cell_type": "code",
   "execution_count": 31,
   "id": "6462dead-3e74-493b-b265-53219418ea35",
   "metadata": {},
   "outputs": [
    {
     "data": {
      "image/png": "[encoded data removed]",
      "text/plain": [
       "<Figure size 640x480 with 2 Axes>"
      ]
     },
     "metadata": {},
     "output_type": "display_data"
    }
   ],
   "source": [
    "corr = df[['Math', 'Science', 'English', 'Total', 'Average']].corr()\n",
    "\n",
    "# Visualize\n",
    "sns.heatmap(corr, annot=True, cmap='coolwarm', vmin=-1, vmax=1)\n",
    "plt.title(\"Subject Correlation Heatmap\")\n",
    "plt.show()"
   ]
  },
  {
   "cell_type": "markdown",
   "id": "04ff77b3-a16e-4edc-98fb-ef32a7de3bb0",
   "metadata": {},
   "source": [
    "# 5.normalization (use minmax_scaler and standard_scaler):\n"
   ]
  },
  {
   "cell_type": "code",
   "execution_count": 34,
   "id": "2755c6b8-97ea-4337-b86c-4837d71e7c4e",
   "metadata": {},
   "outputs": [
    {
     "name": "stdout",
     "output_type": "stream",
     "text": [
      "\n",
      "After MinMax Scaling:\n",
      "     Name  Math  Math_Scaled\n",
      "0  khushi    85     0.739130\n",
      "1  lokesh    72     0.173913\n",
      "2   lalit    91     1.000000\n",
      "3   kunal    68     0.000000\n",
      "4  ishika    77     0.391304\n"
     ]
    }
   ],
   "source": [
    "scaler = MinMaxScaler()\n",
    "df[['Math_Scaled']] = scaler.fit_transform(df[['Math']])\n",
    "\n",
    "print(\"\\nAfter MinMax Scaling:\")\n",
    "print(df[['Name', 'Math', 'Math_Scaled']])"
   ]
  },
  {
   "cell_type": "code",
   "execution_count": 44,
   "id": "aa875fc0-d856-408a-9c90-45e80c6e3319",
   "metadata": {},
   "outputs": [
    {
     "name": "stdout",
     "output_type": "stream",
     "text": [
      "\n",
      " After Standard Scaling: \n",
      "     Name      Math   Science   English\n",
      "0  khushi  0.761473  1.147832  0.194257\n",
      "1  lokesh -0.785269 -0.664534  0.679900\n",
      "2   lalit  1.475354  0.845771 -0.291386\n",
      "3   kunal -1.261190 -1.570717 -1.748315\n",
      "4  ishika -0.190368  0.241649  1.165543\n"
     ]
    }
   ],
   "source": [
    "scaler = StandardScaler()\n",
    "\n",
    "# Scale numerical columns\n",
    "numeric_cols = ['Math', 'Science', 'English']\n",
    "df[numeric_cols] = scaler.fit_transform(df[numeric_cols])\n",
    "\n",
    "print(\"\\n After Standard Scaling: \")\n",
    "print(df[['Name', 'Math', 'Science', 'English']])"
   ]
  },
  {
   "cell_type": "markdown",
   "id": "2a1e2911-97cc-4707-bea1-4fde46ce62a8",
   "metadata": {},
   "source": [
    "# Feature Engineering steps:\n",
    "# feature engineering is basically created new useful information from your raw data and used for  better undestanding data and also pattern to easily understand \n",
    "# 1.feature creation (created new columns from existing ones)\n",
    "# 2.encoding categorical data ( conver text to number because this is the ML algorithm and that only understand the nummrical language.\n",
    "# 3.Handle missing values(filling or removing empty data spots and also used for accuracy,prevent errors,system errors)\n",
    "# 4.correlation matrix ( find the hidden reveal relationship create the matrix of that )\n",
    "# 5.Normalization (it is used for scaling the number from range 0 to 1 that are convert ex : marks to percentage.\n",
    "# 1.min_max_scaler : it is used for small data and also used for images data that range are from 0 to 1.\n",
    "# 2.standard_scaler: it is used for large and complex nummerical data that are used for big dataset and range from _infinity to +infinity .\n",
    "# usage of pandas,seaborn,matploblib,sklearn :\n",
    "# 1.pandas is the data organizer that helps to clean organize and analyze tabular data : read and write data files (csvfile) handle missing values (fillna , dropna) and many more etc.\n",
    "# 2.seaborn is the data artist that are used for data visualization and makes beatiful colour graph minimal code create plots and maps and charts.\n",
    "# 3.Matplotlib is the graph artist that are used to create simple graph create basic plots plt.plot, plt.bar and save figure.\n",
    "# 4.sklearn is the Machine learning toolkit that are train and build models that are used for preprocesses data (standardscaler,min_maxscaler,LabelEncoder , tains models and accuracy ."
   ]
  },
  {
   "cell_type": "code",
   "execution_count": null,
   "id": "dfd70fd7-3308-496a-996c-a0d56d6e7a46",
   "metadata": {},
   "outputs": [],
   "source": []
  }
 ],
 "metadata": {
  "kernelspec": {
   "display_name": "Python [conda env:base] *",
   "language": "python",
   "name": "conda-base-py"
  },
  "language_info": {
   "codemirror_mode": {
    "name": "ipython",
    "version": 3
   },
   "file_extension": ".py",
   "mimetype": "text/x-python",
   "name": "python",
   "nbconvert_exporter": "python",
   "pygments_lexer": "ipython3",
   "version": "3.12.7"
  }
 },
 "nbformat": 4,
 "nbformat_minor": 5
}
