{
 "cells": [
  {
   "cell_type": "code",
   "execution_count": 1,
   "id": "65062abb-883e-4478-b789-b9ec63279dc9",
   "metadata": {},
   "outputs": [
    {
     "name": "stdout",
     "output_type": "stream",
     "text": [
      "\n",
      "Sample DataFrame:\n",
      "      Name  Age  Score\n",
      "0    Alice   25     85\n",
      "1      Bob   30     92\n",
      "2  Charlie   35     78\n",
      "3    David   40     88\n",
      "4      Eve   45     95\n",
      "\n",
      "Loading CSV file:\n",
      "\n",
      "First 3 rows (head):\n",
      "      Name  Age  Score\n",
      "0    Alice   25     85\n",
      "1      Bob   30     92\n",
      "2  Charlie   35     78\n",
      "\n",
      "Descriptive statistics:\n",
      "             Age      Score\n",
      "count   5.000000   5.000000\n",
      "mean   35.000000  87.600000\n",
      "std     7.905694   6.580274\n",
      "min    25.000000  78.000000\n",
      "25%    30.000000  85.000000\n",
      "50%    35.000000  88.000000\n",
      "75%    40.000000  92.000000\n",
      "max    45.000000  95.000000\n",
      "\n",
      "Column info:\n",
      "<class 'pandas.core.frame.DataFrame'>\n",
      "RangeIndex: 5 entries, 0 to 4\n",
      "Data columns (total 3 columns):\n",
      " #   Column  Non-Null Count  Dtype \n",
      "---  ------  --------------  ----- \n",
      " 0   Name    5 non-null      object\n",
      " 1   Age     5 non-null      int64 \n",
      " 2   Score   5 non-null      int64 \n",
      "dtypes: int64(2), object(1)\n",
      "memory usage: 252.0+ bytes\n",
      "None\n",
      "\n",
      "Scores above 85:\n",
      "    Name  Age  Score\n",
      "1    Bob   30     92\n",
      "3  David   40     88\n",
      "4    Eve   45     95\n"
     ]
    }
   ],
   "source": [
    "import pandas as pd\n",
    "data = {\n",
    "    'Name': ['Alice', 'Bob', 'Charlie', 'David', 'Eve'],\n",
    "    'Age': [25, 30, 35, 40, 45],\n",
    "    'Score': [85, 92, 78, 88, 95]\n",
    "}\n",
    "df = pd.DataFrame(data)\n",
    "print(\"\\nSample DataFrame:\")\n",
    "print(df)\n",
    "\n",
    "df.to_csv('sample_data.csv', index=False)\n",
    "\n",
    "\n",
    "print(\"\\nLoading CSV file:\")\n",
    "csv_data = pd.read_csv('sample_data.csv')\n",
    "\n",
    "print(\"\\nFirst 3 rows (head):\")\n",
    "print(csv_data.head(3))  \n",
    "\n",
    "print(\"\\nDescriptive statistics:\")\n",
    "print(csv_data.describe())  \n",
    "\n",
    "print(\"\\nColumn info:\")\n",
    "print(csv_data.info())  \n",
    "\n",
    "print(\"\\nScores above 85:\")\n",
    "print(csv_data[csv_data['Score'] > 85])"
   ]
  },
  {
   "cell_type": "code",
   "execution_count": 2,
   "id": "af4a4b78-98c2-49ef-be5e-f3cd06d5d08f",
   "metadata": {},
   "outputs": [],
   "source": [
    "import pandas as pd\n"
   ]
  },
  {
   "cell_type": "code",
   "execution_count": 3,
   "id": "597d0f35-2fcf-4d9d-a922-1cedabce0eb9",
   "metadata": {},
   "outputs": [],
   "source": [
    "titanic = pd.read_csv('https://web.stanford.edu/class/archive/cs/cs109/cs109.1166/stuff/titanic.csv')"
   ]
  },
  {
   "cell_type": "code",
   "execution_count": 4,
   "id": "da2f12f8-2cf4-4d12-a72a-f4f44a4f5606",
   "metadata": {},
   "outputs": [
    {
     "name": "stdout",
     "output_type": "stream",
     "text": [
      "first 5 rows:\n"
     ]
    }
   ],
   "source": [
    "print(\"first 5 rows:\")"
   ]
  },
  {
   "cell_type": "code",
   "execution_count": 5,
   "id": "0919759e-ee09-4a91-8ee3-27decbe59316",
   "metadata": {},
   "outputs": [
    {
     "name": "stdout",
     "output_type": "stream",
     "text": [
      "   Survived  Pclass                                               Name  \\\n",
      "0         0       3                             Mr. Owen Harris Braund   \n",
      "1         1       1  Mrs. John Bradley (Florence Briggs Thayer) Cum...   \n",
      "2         1       3                              Miss. Laina Heikkinen   \n",
      "3         1       1        Mrs. Jacques Heath (Lily May Peel) Futrelle   \n",
      "4         0       3                            Mr. William Henry Allen   \n",
      "\n",
      "      Sex   Age  Siblings/Spouses Aboard  Parents/Children Aboard     Fare  \n",
      "0    male  22.0                        1                        0   7.2500  \n",
      "1  female  38.0                        1                        0  71.2833  \n",
      "2  female  26.0                        0                        0   7.9250  \n",
      "3  female  35.0                        1                        0  53.1000  \n",
      "4    male  35.0                        0                        0   8.0500  \n"
     ]
    }
   ],
   "source": [
    "print(titanic.head())"
   ]
  },
  {
   "cell_type": "code",
   "execution_count": 6,
   "id": "380a082b-3891-4ab6-854f-689a9455c1b8",
   "metadata": {},
   "outputs": [
    {
     "data": {
      "text/html": [
       "<div>\n",
       "<style scoped>\n",
       "    .dataframe tbody tr th:only-of-type {\n",
       "        vertical-align: middle;\n",
       "    }\n",
       "\n",
       "    .dataframe tbody tr th {\n",
       "        vertical-align: top;\n",
       "    }\n",
       "\n",
       "    .dataframe thead th {\n",
       "        text-align: right;\n",
       "    }\n",
       "</style>\n",
       "<table border=\"1\" class=\"dataframe\">\n",
       "  <thead>\n",
       "    <tr style=\"text-align: right;\">\n",
       "      <th></th>\n",
       "      <th>Survived</th>\n",
       "      <th>Pclass</th>\n",
       "      <th>Age</th>\n",
       "      <th>Siblings/Spouses Aboard</th>\n",
       "      <th>Parents/Children Aboard</th>\n",
       "      <th>Fare</th>\n",
       "    </tr>\n",
       "  </thead>\n",
       "  <tbody>\n",
       "    <tr>\n",
       "      <th>count</th>\n",
       "      <td>887.000000</td>\n",
       "      <td>887.000000</td>\n",
       "      <td>887.000000</td>\n",
       "      <td>887.000000</td>\n",
       "      <td>887.000000</td>\n",
       "      <td>887.00000</td>\n",
       "    </tr>\n",
       "    <tr>\n",
       "      <th>mean</th>\n",
       "      <td>0.385569</td>\n",
       "      <td>2.305524</td>\n",
       "      <td>29.471443</td>\n",
       "      <td>0.525366</td>\n",
       "      <td>0.383315</td>\n",
       "      <td>32.30542</td>\n",
       "    </tr>\n",
       "    <tr>\n",
       "      <th>std</th>\n",
       "      <td>0.487004</td>\n",
       "      <td>0.836662</td>\n",
       "      <td>14.121908</td>\n",
       "      <td>1.104669</td>\n",
       "      <td>0.807466</td>\n",
       "      <td>49.78204</td>\n",
       "    </tr>\n",
       "    <tr>\n",
       "      <th>min</th>\n",
       "      <td>0.000000</td>\n",
       "      <td>1.000000</td>\n",
       "      <td>0.420000</td>\n",
       "      <td>0.000000</td>\n",
       "      <td>0.000000</td>\n",
       "      <td>0.00000</td>\n",
       "    </tr>\n",
       "    <tr>\n",
       "      <th>25%</th>\n",
       "      <td>0.000000</td>\n",
       "      <td>2.000000</td>\n",
       "      <td>20.250000</td>\n",
       "      <td>0.000000</td>\n",
       "      <td>0.000000</td>\n",
       "      <td>7.92500</td>\n",
       "    </tr>\n",
       "    <tr>\n",
       "      <th>50%</th>\n",
       "      <td>0.000000</td>\n",
       "      <td>3.000000</td>\n",
       "      <td>28.000000</td>\n",
       "      <td>0.000000</td>\n",
       "      <td>0.000000</td>\n",
       "      <td>14.45420</td>\n",
       "    </tr>\n",
       "    <tr>\n",
       "      <th>75%</th>\n",
       "      <td>1.000000</td>\n",
       "      <td>3.000000</td>\n",
       "      <td>38.000000</td>\n",
       "      <td>1.000000</td>\n",
       "      <td>0.000000</td>\n",
       "      <td>31.13750</td>\n",
       "    </tr>\n",
       "    <tr>\n",
       "      <th>max</th>\n",
       "      <td>1.000000</td>\n",
       "      <td>3.000000</td>\n",
       "      <td>80.000000</td>\n",
       "      <td>8.000000</td>\n",
       "      <td>6.000000</td>\n",
       "      <td>512.32920</td>\n",
       "    </tr>\n",
       "  </tbody>\n",
       "</table>\n",
       "</div>"
      ],
      "text/plain": [
       "         Survived      Pclass         Age  Siblings/Spouses Aboard  \\\n",
       "count  887.000000  887.000000  887.000000               887.000000   \n",
       "mean     0.385569    2.305524   29.471443                 0.525366   \n",
       "std      0.487004    0.836662   14.121908                 1.104669   \n",
       "min      0.000000    1.000000    0.420000                 0.000000   \n",
       "25%      0.000000    2.000000   20.250000                 0.000000   \n",
       "50%      0.000000    3.000000   28.000000                 0.000000   \n",
       "75%      1.000000    3.000000   38.000000                 1.000000   \n",
       "max      1.000000    3.000000   80.000000                 8.000000   \n",
       "\n",
       "       Parents/Children Aboard       Fare  \n",
       "count               887.000000  887.00000  \n",
       "mean                  0.383315   32.30542  \n",
       "std                   0.807466   49.78204  \n",
       "min                   0.000000    0.00000  \n",
       "25%                   0.000000    7.92500  \n",
       "50%                   0.000000   14.45420  \n",
       "75%                   0.000000   31.13750  \n",
       "max                   6.000000  512.32920  "
      ]
     },
     "execution_count": 6,
     "metadata": {},
     "output_type": "execute_result"
    }
   ],
   "source": [
    "titanic.describe()"
   ]
  },
  {
   "cell_type": "code",
   "execution_count": 7,
   "id": "f6e84728-7ce1-4349-afa3-e13ebaa0916d",
   "metadata": {},
   "outputs": [
    {
     "data": {
      "text/html": [
       "<div>\n",
       "<style scoped>\n",
       "    .dataframe tbody tr th:only-of-type {\n",
       "        vertical-align: middle;\n",
       "    }\n",
       "\n",
       "    .dataframe tbody tr th {\n",
       "        vertical-align: top;\n",
       "    }\n",
       "\n",
       "    .dataframe thead th {\n",
       "        text-align: right;\n",
       "    }\n",
       "</style>\n",
       "<table border=\"1\" class=\"dataframe\">\n",
       "  <thead>\n",
       "    <tr style=\"text-align: right;\">\n",
       "      <th></th>\n",
       "      <th>Survived</th>\n",
       "      <th>Pclass</th>\n",
       "      <th>Name</th>\n",
       "      <th>Sex</th>\n",
       "      <th>Age</th>\n",
       "      <th>Siblings/Spouses Aboard</th>\n",
       "      <th>Parents/Children Aboard</th>\n",
       "      <th>Fare</th>\n",
       "    </tr>\n",
       "  </thead>\n",
       "  <tbody>\n",
       "    <tr>\n",
       "      <th>882</th>\n",
       "      <td>0</td>\n",
       "      <td>2</td>\n",
       "      <td>Rev. Juozas Montvila</td>\n",
       "      <td>male</td>\n",
       "      <td>27.0</td>\n",
       "      <td>0</td>\n",
       "      <td>0</td>\n",
       "      <td>13.00</td>\n",
       "    </tr>\n",
       "    <tr>\n",
       "      <th>883</th>\n",
       "      <td>1</td>\n",
       "      <td>1</td>\n",
       "      <td>Miss. Margaret Edith Graham</td>\n",
       "      <td>female</td>\n",
       "      <td>19.0</td>\n",
       "      <td>0</td>\n",
       "      <td>0</td>\n",
       "      <td>30.00</td>\n",
       "    </tr>\n",
       "    <tr>\n",
       "      <th>884</th>\n",
       "      <td>0</td>\n",
       "      <td>3</td>\n",
       "      <td>Miss. Catherine Helen Johnston</td>\n",
       "      <td>female</td>\n",
       "      <td>7.0</td>\n",
       "      <td>1</td>\n",
       "      <td>2</td>\n",
       "      <td>23.45</td>\n",
       "    </tr>\n",
       "    <tr>\n",
       "      <th>885</th>\n",
       "      <td>1</td>\n",
       "      <td>1</td>\n",
       "      <td>Mr. Karl Howell Behr</td>\n",
       "      <td>male</td>\n",
       "      <td>26.0</td>\n",
       "      <td>0</td>\n",
       "      <td>0</td>\n",
       "      <td>30.00</td>\n",
       "    </tr>\n",
       "    <tr>\n",
       "      <th>886</th>\n",
       "      <td>0</td>\n",
       "      <td>3</td>\n",
       "      <td>Mr. Patrick Dooley</td>\n",
       "      <td>male</td>\n",
       "      <td>32.0</td>\n",
       "      <td>0</td>\n",
       "      <td>0</td>\n",
       "      <td>7.75</td>\n",
       "    </tr>\n",
       "  </tbody>\n",
       "</table>\n",
       "</div>"
      ],
      "text/plain": [
       "     Survived  Pclass                            Name     Sex   Age  \\\n",
       "882         0       2            Rev. Juozas Montvila    male  27.0   \n",
       "883         1       1     Miss. Margaret Edith Graham  female  19.0   \n",
       "884         0       3  Miss. Catherine Helen Johnston  female   7.0   \n",
       "885         1       1            Mr. Karl Howell Behr    male  26.0   \n",
       "886         0       3              Mr. Patrick Dooley    male  32.0   \n",
       "\n",
       "     Siblings/Spouses Aboard  Parents/Children Aboard   Fare  \n",
       "882                        0                        0  13.00  \n",
       "883                        0                        0  30.00  \n",
       "884                        1                        2  23.45  \n",
       "885                        0                        0  30.00  \n",
       "886                        0                        0   7.75  "
      ]
     },
     "execution_count": 7,
     "metadata": {},
     "output_type": "execute_result"
    }
   ],
   "source": [
    "titanic.tail()"
   ]
  },
  {
   "cell_type": "code",
   "execution_count": 8,
   "id": "1786f124-1813-45c1-9461-01b8ebe20a60",
   "metadata": {},
   "outputs": [
    {
     "name": "stdout",
     "output_type": "stream",
     "text": [
      "dataset information:\n",
      "<class 'pandas.core.frame.DataFrame'>\n",
      "RangeIndex: 887 entries, 0 to 886\n",
      "Data columns (total 8 columns):\n",
      " #   Column                   Non-Null Count  Dtype  \n",
      "---  ------                   --------------  -----  \n",
      " 0   Survived                 887 non-null    int64  \n",
      " 1   Pclass                   887 non-null    int64  \n",
      " 2   Name                     887 non-null    object \n",
      " 3   Sex                      887 non-null    object \n",
      " 4   Age                      887 non-null    float64\n",
      " 5   Siblings/Spouses Aboard  887 non-null    int64  \n",
      " 6   Parents/Children Aboard  887 non-null    int64  \n",
      " 7   Fare                     887 non-null    float64\n",
      "dtypes: float64(2), int64(4), object(2)\n",
      "memory usage: 55.6+ KB\n",
      "None\n"
     ]
    }
   ],
   "source": [
    "print(\"dataset information:\")\n",
    "print(titanic.info())"
   ]
  },
  {
   "cell_type": "code",
   "execution_count": 22,
   "id": "2786e7c7-f21d-4c34-9676-8d7f3396607d",
   "metadata": {},
   "outputs": [
    {
     "name": "stdout",
     "output_type": "stream",
     "text": [
      "\n",
      "Survival counts:\n",
      "Survived\n",
      "0    545\n",
      "1    342\n",
      "Name: count, dtype: int64\n"
     ]
    }
   ],
   "source": [
    "print(\"\\nSurvival counts:\")\n",
    "print(titanic['Survived'].value_counts())"
   ]
  },
  {
   "cell_type": "code",
   "execution_count": 26,
   "id": "1abb1150-8d37-4a1b-9fdc-1fd56f4502cb",
   "metadata": {},
   "outputs": [
    {
     "name": "stdout",
     "output_type": "stream",
     "text": [
      "class distribution:\n",
      "Pclass\n",
      "3    487\n",
      "1    216\n",
      "2    184\n",
      "Name: count, dtype: int64\n"
     ]
    }
   ],
   "source": [
    "print(\"class distribution:\")\n",
    "print(titanic['Pclass'].value_counts())# value_counts() are basically used for categorial data analysis"
   ]
  },
  {
   "cell_type": "code",
   "execution_count": 30,
   "id": "5c035fdc-28b8-4365-b548-1688bb7cc091",
   "metadata": {},
   "outputs": [
    {
     "name": "stdout",
     "output_type": "stream",
     "text": [
      "gender distribution:\n",
      "Sex\n",
      "male      573\n",
      "female    314\n",
      "Name: count, dtype: int64\n"
     ]
    }
   ],
   "source": [
    "print(\"gender distribution:\")\n",
    "print(titanic['Sex'].value_counts())"
   ]
  },
  {
   "cell_type": "code",
   "execution_count": 32,
   "id": "56ba4d09-c871-4e23-99a1-6a421b0d5dd1",
   "metadata": {},
   "outputs": [
    {
     "name": "stdout",
     "output_type": "stream",
     "text": [
      "survival rate by class\n",
      "Pclass\n",
      "1    0.629630\n",
      "2    0.472826\n",
      "3    0.244353\n",
      "Name: Survived, dtype: float64\n"
     ]
    }
   ],
   "source": [
    "print(\"survival rate by class\")\n",
    "print(titanic.groupby('Pclass')['Survived'].mean())"
   ]
  },
  {
   "cell_type": "code",
   "execution_count": 34,
   "id": "eb5c76c2-ab97-455e-adfb-4a002b930838",
   "metadata": {},
   "outputs": [
    {
     "name": "stdout",
     "output_type": "stream",
     "text": [
      "average age of survival status\n",
      "Age\n",
      "0.42     1.0\n",
      "0.67     1.0\n",
      "0.75     1.0\n",
      "0.83     1.0\n",
      "0.92     1.0\n",
      "        ... \n",
      "70.00    0.0\n",
      "70.50    0.0\n",
      "71.00    0.0\n",
      "74.00    0.0\n",
      "80.00    1.0\n",
      "Name: Survived, Length: 89, dtype: float64\n"
     ]
    }
   ],
   "source": [
    "print(\"average age of survival status\")\n",
    "print(titanic.groupby('Age')['Survived'].mean()) # .groupby is basically used for aggregated analysis"
   ]
  },
  {
   "cell_type": "code",
   "execution_count": 36,
   "id": "840c2c6d-4b9a-4276-a974-7daf8798e556",
   "metadata": {},
   "outputs": [
    {
     "name": "stdout",
     "output_type": "stream",
     "text": [
      "missing values per column\n",
      "<bound method DataFrame.sum of      Survived  Pclass   Name    Sex    Age  Siblings/Spouses Aboard  \\\n",
      "0       False   False  False  False  False                    False   \n",
      "1       False   False  False  False  False                    False   \n",
      "2       False   False  False  False  False                    False   \n",
      "3       False   False  False  False  False                    False   \n",
      "4       False   False  False  False  False                    False   \n",
      "..        ...     ...    ...    ...    ...                      ...   \n",
      "882     False   False  False  False  False                    False   \n",
      "883     False   False  False  False  False                    False   \n",
      "884     False   False  False  False  False                    False   \n",
      "885     False   False  False  False  False                    False   \n",
      "886     False   False  False  False  False                    False   \n",
      "\n",
      "     Parents/Children Aboard   Fare  \n",
      "0                      False  False  \n",
      "1                      False  False  \n",
      "2                      False  False  \n",
      "3                      False  False  \n",
      "4                      False  False  \n",
      "..                       ...    ...  \n",
      "882                    False  False  \n",
      "883                    False  False  \n",
      "884                    False  False  \n",
      "885                    False  False  \n",
      "886                    False  False  \n",
      "\n",
      "[887 rows x 8 columns]>\n"
     ]
    }
   ],
   "source": [
    "print(\"missing values per column\")\n",
    "print(titanic.isnull().sum)"
   ]
  },
  {
   "cell_type": "code",
   "execution_count": 38,
   "id": "d75d9ec8-fef3-45f9-a96e-8ac0a45d06e4",
   "metadata": {},
   "outputs": [
    {
     "name": "stdout",
     "output_type": "stream",
     "text": [
      "\n",
      "Shape after dropping missing ages: (887, 8)\n"
     ]
    }
   ],
   "source": [
    "titanic_dropped = titanic.dropna(subset=['Age'])\n",
    "print(f\"\\nShape after dropping missing ages: {titanic_dropped.shape}\")"
   ]
  },
  {
   "cell_type": "code",
   "execution_count": 40,
   "id": "e528cebc-1e98-440e-986e-933005a92771",
   "metadata": {},
   "outputs": [
    {
     "name": "stdout",
     "output_type": "stream",
     "text": [
      "Missing values after filling:\n",
      "0\n"
     ]
    }
   ],
   "source": [
    "titanic_filled = titanic.copy()\n",
    "titanic_filled['Age'] = titanic_filled['Age'].fillna(titanic_filled['Age'].median())\n",
    "print(\"Missing values after filling:\")\n",
    "print(titanic_filled['Age'].isnull().sum())"
   ]
  },
  {
   "cell_type": "code",
   "execution_count": 42,
   "id": "07bbe1f8-6204-42bd-89ad-44583988dcf8",
   "metadata": {},
   "outputs": [
    {
     "name": "stdout",
     "output_type": "stream",
     "text": [
      "\n",
      "First class passengers count: 216\n",
      "Young survivors count: 65\n",
      "\n",
      "Selected columns sample:\n",
      "                                                Name   Age  Survived\n",
      "0                             Mr. Owen Harris Braund  22.0         0\n",
      "1  Mrs. John Bradley (Florence Briggs Thayer) Cum...  38.0         1\n",
      "2                              Miss. Laina Heikkinen  26.0         1\n",
      "3        Mrs. Jacques Heath (Lily May Peel) Futrelle  35.0         1\n",
      "4                            Mr. William Henry Allen  35.0         0\n"
     ]
    }
   ],
   "source": [
    "first_class = titanic[titanic['Pclass'] == 1]\n",
    "print(f\"\\nFirst class passengers count: {len(first_class)}\")\n",
    "young_survivors = titanic[(titanic['Age'] < 18) & (titanic['Survived'] == 1)]\n",
    "print(f\"Young survivors count: {len(young_survivors)}\")\n",
    "subset = titanic[['Name', 'Age', 'Survived']]\n",
    "print(\"\\nSelected columns sample:\")\n",
    "print(subset.head())"
   ]
  },
  {
   "cell_type": "code",
   "execution_count": 46,
   "id": "07e06491-7218-459a-bb90-9a74181b1402",
   "metadata": {},
   "outputs": [
    {
     "name": "stdout",
     "output_type": "stream",
     "text": [
      "\n",
      "Survival rate for women and children: 67.72%\n",
      "\n",
      "Most expensive tickets:\n",
      "                                  Name  Pclass      Fare\n",
      "676  Mr. Thomas Drake Martinez Cardeza       1  512.3292\n",
      "257                    Miss. Anna Ward       1  512.3292\n",
      "733              Mr. Gustave J Lesurer       1  512.3292\n",
      "87           Miss. Mabel Helen Fortune       1  263.0000\n",
      "435                   Mr. Mark Fortune       1  263.0000\n",
      "339      Miss. Alice Elizabeth Fortune       1  263.0000\n",
      "27       Mr. Charles Alexander Fortune       1  263.0000\n",
      "738         Miss. Susan Parker Ryerson       1  262.3750\n",
      "309          Miss. Emily Borie Ryerson       1  262.3750\n",
      "117            Mr. Quigg Edmond Baxter       1  247.5208\n"
     ]
    }
   ],
   "source": [
    "women_children = titanic[(titanic['Sex'] == 'female') | (titanic['Age'] < 18)]\n",
    "survival_rate = women_children['Survived'].mean()\n",
    "print(f\"\\nSurvival rate for women and children: {survival_rate:.2%}\")\n",
    "expensive_tickets = titanic.sort_values('Fare', ascending=False).head(10)\n",
    "print(\"\\nMost expensive tickets:\")\n",
    "print(expensive_tickets[['Name', 'Pclass', 'Fare']])"
   ]
  },
  {
   "cell_type": "code",
   "execution_count": 58,
   "id": "95267fd4-1e06-4541-82c3-8628a4ecc75b",
   "metadata": {},
   "outputs": [
    {
     "name": "stdout",
     "output_type": "stream",
     "text": [
      "(887, 8)\n"
     ]
    }
   ],
   "source": [
    "print(titanic.shape)"
   ]
  },
  {
   "cell_type": "code",
   "execution_count": null,
   "id": "ca6ec68c-7587-4815-a7f8-b07f43ed12a4",
   "metadata": {},
   "outputs": [],
   "source": []
  }
 ],
 "metadata": {
  "kernelspec": {
   "display_name": "Python [conda env:base] *",
   "language": "python",
   "name": "conda-base-py"
  },
  "language_info": {
   "codemirror_mode": {
    "name": "ipython",
    "version": 3
   },
   "file_extension": ".py",
   "mimetype": "text/x-python",
   "name": "python",
   "nbconvert_exporter": "python",
   "pygments_lexer": "ipython3",
   "version": "3.12.7"
  }
 },
 "nbformat": 4,
 "nbformat_minor": 5
}
