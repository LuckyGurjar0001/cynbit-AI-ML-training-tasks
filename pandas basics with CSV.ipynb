{
 "cells": [
  {
   "cell_type": "code",
   "execution_count": 1,
   "id": "65062abb-883e-4478-b789-b9ec63279dc9",
   "metadata": {},
   "outputs": [
    {
     "name": "stdout",
     "output_type": "stream",
     "text": [
      "\n",
      "Sample DataFrame:\n",
      "      Name  Age  Score\n",
      "0    Alice   25     85\n",
      "1      Bob   30     92\n",
      "2  Charlie   35     78\n",
      "3    David   40     88\n",
      "4      Eve   45     95\n",
      "\n",
      "Loading CSV file:\n",
      "\n",
      "First 3 rows (head):\n",
      "      Name  Age  Score\n",
      "0    Alice   25     85\n",
      "1      Bob   30     92\n",
      "2  Charlie   35     78\n",
      "\n",
      "Descriptive statistics:\n",
      "             Age      Score\n",
      "count   5.000000   5.000000\n",
      "mean   35.000000  87.600000\n",
      "std     7.905694   6.580274\n",
      "min    25.000000  78.000000\n",
      "25%    30.000000  85.000000\n",
      "50%    35.000000  88.000000\n",
      "75%    40.000000  92.000000\n",
      "max    45.000000  95.000000\n",
      "\n",
      "Column info:\n",
      "<class 'pandas.core.frame.DataFrame'>\n",
      "RangeIndex: 5 entries, 0 to 4\n",
      "Data columns (total 3 columns):\n",
      " #   Column  Non-Null Count  Dtype \n",
      "---  ------  --------------  ----- \n",
      " 0   Name    5 non-null      object\n",
      " 1   Age     5 non-null      int64 \n",
      " 2   Score   5 non-null      int64 \n",
      "dtypes: int64(2), object(1)\n",
      "memory usage: 252.0+ bytes\n",
      "None\n",
      "\n",
      "Scores above 85:\n",
      "    Name  Age  Score\n",
      "1    Bob   30     92\n",
      "3  David   40     88\n",
      "4    Eve   45     95\n"
     ]
    }
   ],
   "source": [
    "import pandas as pd\n",
    "data = {\n",
    "    'Name': ['Alice', 'Bob', 'Charlie', 'David', 'Eve'],\n",
    "    'Age': [25, 30, 35, 40, 45],\n",
    "    'Score': [85, 92, 78, 88, 95]\n",
    "}\n",
    "df = pd.DataFrame(data)\n",
    "print(\"\\nSample DataFrame:\")\n",
    "print(df)\n",
    "\n",
    "df.to_csv('sample_data.csv', index=False)\n",
    "\n",
    "\n",
    "print(\"\\nLoading CSV file:\")\n",
    "csv_data = pd.read_csv('sample_data.csv')\n",
    "\n",
    "print(\"\\nFirst 3 rows (head):\")\n",
    "print(csv_data.head(3))  \n",
    "\n",
    "print(\"\\nDescriptive statistics:\")\n",
    "print(csv_data.describe())  \n",
    "\n",
    "print(\"\\nColumn info:\")\n",
    "print(csv_data.info())  \n",
    "\n",
    "print(\"\\nScores above 85:\")\n",
    "print(csv_data[csv_data['Score'] > 85])"
   ]
  },
  {
   "cell_type": "code",
   "execution_count": null,
   "id": "af4a4b78-98c2-49ef-be5e-f3cd06d5d08f",
   "metadata": {},
   "outputs": [],
   "source": []
  }
 ],
 "metadata": {
  "kernelspec": {
   "display_name": "Python [conda env:base] *",
   "language": "python",
   "name": "conda-base-py"
  },
  "language_info": {
   "codemirror_mode": {
    "name": "ipython",
    "version": 3
   },
   "file_extension": ".py",
   "mimetype": "text/x-python",
   "name": "python",
   "nbconvert_exporter": "python",
   "pygments_lexer": "ipython3",
   "version": "3.12.7"
  }
 },
 "nbformat": 4,
 "nbformat_minor": 5
}
