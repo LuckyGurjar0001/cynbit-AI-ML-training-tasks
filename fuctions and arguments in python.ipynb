{
 "cells": [
  {
   "cell_type": "code",
   "execution_count": 9,
   "id": "89dee3e1-cc5f-400c-9a4d-c5051980557a",
   "metadata": {},
   "outputs": [],
   "source": [
    "#normal function\n",
    "def my_function():\n",
    " print(\"hello from a function\")"
   ]
  },
  {
   "cell_type": "code",
   "execution_count": 11,
   "id": "83233350-7527-40df-aa9b-2ad7c7853609",
   "metadata": {},
   "outputs": [
    {
     "name": "stdout",
     "output_type": "stream",
     "text": [
      "Hello from a function\n"
     ]
    }
   ],
   "source": [
    "# calling a function\n",
    "def my_function():\n",
    "  print(\"Hello from a function\")\n",
    "\n",
    "my_function()\n"
   ]
  },
  {
   "cell_type": "code",
   "execution_count": 19,
   "id": "e86ec02b-7773-4fd4-9436-02223f8da279",
   "metadata": {},
   "outputs": [
    {
     "name": "stdout",
     "output_type": "stream",
     "text": [
      "lucky\n",
      "lokesh\n",
      "lalit\n"
     ]
    }
   ],
   "source": [
    "#arguments in function\n",
    "def my_function(fname):\n",
    "   print(fname  +\"\")\n",
    "\n",
    "my_function(\"lucky\")\n",
    "my_function(\"lokesh\")\n",
    "my_function(\"lalit\")"
   ]
  },
  {
   "cell_type": "code",
   "execution_count": 21,
   "id": "edf313e2-63ed-4a0c-a198-2b225894ebf4",
   "metadata": {},
   "outputs": [
    {
     "name": "stdout",
     "output_type": "stream",
     "text": [
      "lucky gurjar\n"
     ]
    }
   ],
   "source": [
    "# two arguments in function\n",
    "def my_function(fname, lname):\n",
    "  print(fname + \" \" + lname)\n",
    "\n",
    "my_function(\"lucky\", \"gurjar\")"
   ]
  },
  {
   "cell_type": "code",
   "execution_count": 29,
   "id": "99445387-ff54-4217-a342-84668b31af7f",
   "metadata": {},
   "outputs": [
    {
     "name": "stdout",
     "output_type": "stream",
     "text": [
      "The youngest child is Emil\n"
     ]
    }
   ],
   "source": [
    "#arbitary argument\n",
    "def my_function(*kids):\n",
    "  print(\"The youngest child is \" + kids[0])\n",
    "\n",
    "my_function(\"Emil\", \"Tobias\", \"Linus\")"
   ]
  },
  {
   "cell_type": "code",
   "execution_count": 39,
   "id": "d29712c9-2d4a-43ff-8414-4b9e8d6c7147",
   "metadata": {},
   "outputs": [
    {
     "name": "stdout",
     "output_type": "stream",
     "text": [
      "The youngest child is Linus\n"
     ]
    }
   ],
   "source": [
    "#key argument in function\n",
    "def my_function(child3, child2, child1):\n",
    "  print(\"The youngest child is \" + child3)\n",
    "\n",
    "my_function(child1 = \"Emil\", child2 = \"Tobias\", child3 = \"Linus\")\n"
   ]
  },
  {
   "cell_type": "code",
   "execution_count": 45,
   "id": "da454f8f-2350-47ce-8ac0-c0400dacdc84",
   "metadata": {},
   "outputs": [
    {
     "name": "stdout",
     "output_type": "stream",
     "text": [
      "His last name is gurjar\n"
     ]
    }
   ],
   "source": [
    "#arbitary keyword argument \n",
    "def my_function(**kid):\n",
    "  print(\"His last name is \" + kid[\"lname\"])\n",
    "\n",
    "my_function(fname = \"lucky\", lname = \"gurjar\")"
   ]
  },
  {
   "cell_type": "code",
   "execution_count": null,
   "id": "69a29e9c-1f7b-4c90-91c0-197873722e4e",
   "metadata": {},
   "outputs": [],
   "source": []
  }
 ],
 "metadata": {
  "kernelspec": {
   "display_name": "Python [conda env:base] *",
   "language": "python",
   "name": "conda-base-py"
  },
  "language_info": {
   "codemirror_mode": {
    "name": "ipython",
    "version": 3
   },
   "file_extension": ".py",
   "mimetype": "text/x-python",
   "name": "python",
   "nbconvert_exporter": "python",
   "pygments_lexer": "ipython3",
   "version": "3.12.7"
  }
 },
 "nbformat": 4,
 "nbformat_minor": 5
}
