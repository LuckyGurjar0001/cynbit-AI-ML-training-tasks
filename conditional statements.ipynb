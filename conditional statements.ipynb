{
 "cells": [
  {
   "cell_type": "code",
   "execution_count": 3,
   "id": "c968f49e-b36b-46ff-b6a9-0b23381dafe5",
   "metadata": {},
   "outputs": [
    {
     "name": "stdout",
     "output_type": "stream",
     "text": [
      "b is greater than a\n"
     ]
    }
   ],
   "source": [
    "#conditional statement \n",
    "a = 38\n",
    "b = 208\n",
    "if b > a:\n",
    "  print(\"b is greater than a\")"
   ]
  },
  {
   "cell_type": "code",
   "execution_count": 31,
   "id": "69cd09d6-eed2-4528-ad43-1706a80be7f3",
   "metadata": {},
   "outputs": [
    {
     "name": "stdout",
     "output_type": "stream",
     "text": [
      "a and b are equal\n"
     ]
    }
   ],
   "source": [
    "a = 100\n",
    "b = 100\n",
    "if a > b:\n",
    "    print(\"a is greater than b\")\n",
    "elif a == b:\n",
    "    print(\"a and b are equal\")"
   ]
  },
  {
   "cell_type": "code",
   "execution_count": 37,
   "id": "c616c90f-299c-42a4-9689-848eb628b0ee",
   "metadata": {},
   "outputs": [
    {
     "name": "stdout",
     "output_type": "stream",
     "text": [
      "b is greater than a\n"
     ]
    }
   ],
   "source": [
    "a = 100\n",
    "b = 283\n",
    "if a > b:\n",
    "    print(\"a is greater than b\")\n",
    "elif a == b:\n",
    "    print(\"a and b are equal\")\n",
    "elif b > a:\n",
    "    print(\"b is greater than a\")"
   ]
  },
  {
   "cell_type": "code",
   "execution_count": 43,
   "id": "b963ed67-cd58-4c15-ad20-a7b0ce1abdf9",
   "metadata": {},
   "outputs": [
    {
     "name": "stdout",
     "output_type": "stream",
     "text": [
      "b is not greater than a \n"
     ]
    }
   ],
   "source": [
    "a = 3832\n",
    "b = 392\n",
    "if b > a:\n",
    "    print(\"b is greater than a\")\n",
    "else :\n",
    "    print(\"b is not greater than a \")"
   ]
  },
  {
   "cell_type": "code",
   "execution_count": 45,
   "id": "b176623e-92a7-4ed8-a0fd-7f6ae192ba15",
   "metadata": {},
   "outputs": [
    {
     "name": "stdout",
     "output_type": "stream",
     "text": [
      "y is greater than x\n"
     ]
    }
   ],
   "source": [
    "x = 309\n",
    "y = 393\n",
    "if y > x:\n",
    "    print(\"y is greater than x\")\n",
    "else :\n",
    "    print(\"y is not greater than x\")"
   ]
  },
  {
   "cell_type": "code",
   "execution_count": 49,
   "id": "efb0be71-5f3e-4ac9-b30e-a3f44a03feab",
   "metadata": {},
   "outputs": [
    {
     "name": "stdout",
     "output_type": "stream",
     "text": [
      "b is greater than a\n"
     ]
    }
   ],
   "source": [
    "# short hand if : this are basically use for if you have only  use for one line two print the statement \n",
    "a = 108\n",
    "b = 203\n",
    "if b > a: print(\"b is greater than a\")\n"
   ]
  },
  {
   "cell_type": "code",
   "execution_count": 51,
   "id": "cc90a1c6-4f27-42ce-891d-43bbf32878ef",
   "metadata": {},
   "outputs": [
    {
     "name": "stdout",
     "output_type": "stream",
     "text": [
      "A\n"
     ]
    }
   ],
   "source": [
    "#short hand if else : this are basically use for if you have print the if and else condition\n",
    "a = 382\n",
    "b = 109\n",
    "print(\"A\") if a>b else print(\"B\")"
   ]
  },
  {
   "cell_type": "code",
   "execution_count": 55,
   "id": "4ddc6160-0e9a-4434-b5fd-93facfafe572",
   "metadata": {},
   "outputs": [
    {
     "name": "stdout",
     "output_type": "stream",
     "text": [
      "=\n"
     ]
    }
   ],
   "source": [
    "#short hand else if \n",
    "a = 398\n",
    "b = 398\n",
    "print(\"A\") if a>b else print(\"=\") if a==b  else print(\"B\")\n"
   ]
  },
  {
   "cell_type": "code",
   "execution_count": 72,
   "id": "b15866e5-55c7-40f1-b68c-fd9743bd5324",
   "metadata": {},
   "outputs": [
    {
     "name": "stdout",
     "output_type": "stream",
     "text": [
      "Both conditions are false\n"
     ]
    }
   ],
   "source": [
    "#and : and operator is a logical operator it is used for combine the statement\n",
    "a = 322\n",
    "b = 38\n",
    "c = 504\n",
    "if b > a  and b>c:\n",
    "    print(\"Both conditions are true\")\n",
    "else:\n",
    "    print(\"Both conditions are false\")"
   ]
  },
  {
   "cell_type": "code",
   "execution_count": 83,
   "id": "95f5b7d1-2bb8-448c-b35a-d1ea77e7c505",
   "metadata": {},
   "outputs": [
    {
     "name": "stdout",
     "output_type": "stream",
     "text": [
      "at least one conditioin is true\n"
     ]
    }
   ],
   "source": [
    "#OR : or operator is a logical operator it is used to combine the statement \n",
    "a = 38\n",
    "b = 493\n",
    "c = 2829\n",
    "if b > a or b>c:\n",
    "  print(\"at least one conditioin is true\")\n"
   ]
  },
  {
   "cell_type": "code",
   "execution_count": 85,
   "id": "df79e61f-a989-41a6-9b71-01dc4e2a8d85",
   "metadata": {},
   "outputs": [
    {
     "name": "stdout",
     "output_type": "stream",
     "text": [
      "a is not greater than b\n"
     ]
    }
   ],
   "source": [
    "#not : not operator is used for to reverse the result\n",
    "a = 288\n",
    "b = 382\n",
    "if not a>b: print(\"a is not greater than b\") \n",
    "    "
   ]
  },
  {
   "cell_type": "code",
   "execution_count": 91,
   "id": "024f0714-49d5-4091-a525-4d28e696bbec",
   "metadata": {},
   "outputs": [
    {
     "name": "stdout",
     "output_type": "stream",
     "text": [
      "above ten\n",
      "above twenty\n"
     ]
    }
   ],
   "source": [
    "#nested if : this condition if and also one more if in if then condition is not ture then else\n",
    "x = 48\n",
    "if x >10:\n",
    " print(\"above ten\")\n",
    "if x >20:\n",
    " print(\"above twenty\")\n",
    "else :\n",
    " print (\"but not above 20\")"
   ]
  },
  {
   "cell_type": "code",
   "execution_count": 93,
   "id": "c1ab3ff0-7fde-4ab9-b036-08b9e88c3dc5",
   "metadata": {},
   "outputs": [],
   "source": [
    "a = 38;\n",
    "b = 49;\n",
    "if b > a :\n",
    "    pass"
   ]
  },
  {
   "cell_type": "code",
   "execution_count": 101,
   "id": "4ff0ca21-29f8-45de-bef6-11d72b2b50dc",
   "metadata": {},
   "outputs": [
    {
     "name": "stdout",
     "output_type": "stream",
     "text": [
      "Wednesday\n"
     ]
    }
   ],
   "source": [
    "#instead of writing many if else statement using the match statement the match statement use one code block to be executed\n",
    "day = 3\n",
    "match day :\n",
    " case 1:\n",
    "    print(\"Monday\")\n",
    " case 2:\n",
    "    print(\"Tuesday\")\n",
    " case 3:\n",
    "    print(\"Wednesday\")\n",
    " case 4:\n",
    "    print(\"Thursday\")\n",
    " case 5:\n",
    "    print(\"Friday\")\n",
    " case 6:\n",
    "    print(\"Saturday\")\n",
    " case 7:\n",
    "    print(\"Sunday\")"
   ]
  },
  {
   "cell_type": "code",
   "execution_count": 103,
   "id": "361ea799-84de-45b3-abd6-b6c283f895b9",
   "metadata": {},
   "outputs": [
    {
     "name": "stdout",
     "output_type": "stream",
     "text": [
      "looking forward to the weekend\n"
     ]
    }
   ],
   "source": [
    "day = 2\n",
    "match day:\n",
    " case 6:\n",
    "     print(\"today is saturday\")\n",
    " case 7:\n",
    "     print(\"today is sunday\")\n",
    " case _:\n",
    "     print(\"looking forward to the weekend\")\n",
    "           "
   ]
  },
  {
   "cell_type": "code",
   "execution_count": 105,
   "id": "8c31dfda-45b9-4dfc-b21e-b05dd2fec50b",
   "metadata": {},
   "outputs": [
    {
     "name": "stdout",
     "output_type": "stream",
     "text": [
      "today is weekend\n"
     ]
    }
   ],
   "source": [
    "# | use pipe character to combine the values\n",
    "day = 6\n",
    "match day:\n",
    " case 1|2|3|4|5:\n",
    "     print(\"today is weekday\")\n",
    " case 6|7:\n",
    "     print(\"today is weekend\")"
   ]
  },
  {
   "cell_type": "code",
   "execution_count": 109,
   "id": "c24df2da-7d47-45e7-b8fb-8e0135feb089",
   "metadata": {},
   "outputs": [
    {
     "name": "stdout",
     "output_type": "stream",
     "text": [
      "weekday in july\n"
     ]
    }
   ],
   "source": [
    "# | use pipe character two print the day and month\n",
    "month = 7\n",
    "day = 5\n",
    "match day:\n",
    " case 1|2|3|4|5 if month==6:\n",
    "     print(\"weekday in june\")\n",
    " case 1|2|3|4|5 if month==7:\n",
    "     print(\"weekday in july\")\n",
    " case _:\n",
    "     print(\"no match day\")"
   ]
  },
  {
   "cell_type": "code",
   "execution_count": null,
   "id": "b8f3abcd-95ff-4f5c-8257-4289bf3e6f3b",
   "metadata": {},
   "outputs": [],
   "source": []
  }
 ],
 "metadata": {
  "kernelspec": {
   "display_name": "Python [conda env:base] *",
   "language": "python",
   "name": "conda-base-py"
  },
  "language_info": {
   "codemirror_mode": {
    "name": "ipython",
    "version": 3
   },
   "file_extension": ".py",
   "mimetype": "text/x-python",
   "name": "python",
   "nbconvert_exporter": "python",
   "pygments_lexer": "ipython3",
   "version": "3.12.7"
  }
 },
 "nbformat": 4,
 "nbformat_minor": 5
}
