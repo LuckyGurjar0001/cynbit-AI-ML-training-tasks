{
 "cells": [
  {
   "cell_type": "code",
   "execution_count": 1,
   "id": "e24a778e-7ad7-4636-9c28-55a5a043745a",
   "metadata": {},
   "outputs": [
    {
     "name": "stdout",
     "output_type": "stream",
     "text": [
      "1D Array: [1 2 3 4 5]\n",
      "2D Array:\n",
      " [[1 2 3]\n",
      " [4 5 6]]\n",
      "Zeros Array:\n",
      " [[0. 0. 0.]\n",
      " [0. 0. 0.]\n",
      " [0. 0. 0.]]\n",
      "Range Array: [0 2 4 6 8]\n",
      "\n",
      "Basic Operations:\n",
      "Sum: 15\n",
      "Mean: 3.0\n",
      "Max: 5\n",
      "Element-wise multiplication: [ 2  4  6  8 10]\n",
      "Matrix multiplication:\n",
      " [[14 32]\n",
      " [32 77]]\n"
     ]
    }
   ],
   "source": [
    "import numpy as np\n",
    "\n",
    "# Creating arrays\n",
    "arr1 = np.array([1, 2, 3, 4, 5])  # 1D array\n",
    "arr2 = np.array([[1, 2, 3], [4, 5, 6]])  # 2D array\n",
    "arr3 = np.zeros((3, 3))  # 3x3 array of zeros\n",
    "arr4 = np.arange(0, 10, 2)  # Array from 0 to 10 (step 2)\n",
    "\n",
    "print(\"1D Array:\", arr1)\n",
    "print(\"2D Array:\\n\", arr2)\n",
    "print(\"Zeros Array:\\n\", arr3)\n",
    "print(\"Range Array:\", arr4)\n",
    "\n",
    "# Basic operations\n",
    "print(\"\\nBasic Operations:\")\n",
    "print(\"Sum:\", np.sum(arr1))\n",
    "print(\"Mean:\", np.mean(arr1))\n",
    "print(\"Max:\", np.max(arr1))\n",
    "print(\"Element-wise multiplication:\", arr1 * 2)\n",
    "print(\"Matrix multiplication:\\n\", np.dot(arr2, arr2.T))"
   ]
  },
  {
   "cell_type": "code",
   "execution_count": null,
   "id": "4dd9e458-27bd-4314-b0d5-b31f3a871859",
   "metadata": {},
   "outputs": [],
   "source": []
  }
 ],
 "metadata": {
  "kernelspec": {
   "display_name": "Python [conda env:base] *",
   "language": "python",
   "name": "conda-base-py"
  },
  "language_info": {
   "codemirror_mode": {
    "name": "ipython",
    "version": 3
   },
   "file_extension": ".py",
   "mimetype": "text/x-python",
   "name": "python",
   "nbconvert_exporter": "python",
   "pygments_lexer": "ipython3",
   "version": "3.12.7"
  }
 },
 "nbformat": 4,
 "nbformat_minor": 5
}
