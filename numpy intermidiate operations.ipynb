{
 "cells": [
  {
   "cell_type": "code",
   "execution_count": 1,
   "id": "feeea3e4-d8b5-41ac-a419-2187ef5d726d",
   "metadata": {},
   "outputs": [],
   "source": [
    "import numpy as np \n"
   ]
  },
  {
   "cell_type": "code",
   "execution_count": 5,
   "id": "2a7be720-73e6-4f83-9477-c2b9441ab3ad",
   "metadata": {},
   "outputs": [],
   "source": [
    "arr = np.array([[34,54,23],[45,65,23],[23,56,36]])"
   ]
  },
  {
   "cell_type": "code",
   "execution_count": 7,
   "id": "79268f22-29a3-4974-b199-e7ca45c368cf",
   "metadata": {},
   "outputs": [
    {
     "data": {
      "text/plain": [
       "array([[34, 54, 23],\n",
       "       [45, 65, 23],\n",
       "       [23, 56, 36]])"
      ]
     },
     "execution_count": 7,
     "metadata": {},
     "output_type": "execute_result"
    }
   ],
   "source": [
    "arr"
   ]
  },
  {
   "cell_type": "code",
   "execution_count": 9,
   "id": "834b1fb7-8718-4a34-abbb-2bc93ad9562d",
   "metadata": {},
   "outputs": [
    {
     "name": "stdout",
     "output_type": "stream",
     "text": [
      "shape (3, 3)\n"
     ]
    }
   ],
   "source": [
    "print(\"shape\",arr.shape)"
   ]
  },
  {
   "cell_type": "code",
   "execution_count": 11,
   "id": "da356535-b89f-47d5-963d-56be82193f93",
   "metadata": {},
   "outputs": [
    {
     "name": "stdout",
     "output_type": "stream",
     "text": [
      "data type int32\n"
     ]
    }
   ],
   "source": [
    "print(\"data type\",arr.dtype)"
   ]
  },
  {
   "cell_type": "code",
   "execution_count": 13,
   "id": "0e90936c-8024-4af2-8299-dba23c754444",
   "metadata": {},
   "outputs": [
    {
     "name": "stdout",
     "output_type": "stream",
     "text": [
      "first row: [34 54 23]\n"
     ]
    }
   ],
   "source": [
    "print(\"first row:\",arr[0,:])"
   ]
  },
  {
   "cell_type": "code",
   "execution_count": 19,
   "id": "6dbd9578-5a04-44c9-a1c8-5432bac85540",
   "metadata": {},
   "outputs": [
    {
     "name": "stdout",
     "output_type": "stream",
     "text": [
      "theird column: [23 23 36]\n"
     ]
    }
   ],
   "source": [
    "print(\"theird column:\",arr[:,2])"
   ]
  },
  {
   "cell_type": "code",
   "execution_count": 21,
   "id": "828fce0b-0abe-487d-898f-341e4eacf0aa",
   "metadata": {},
   "outputs": [
    {
     "name": "stdout",
     "output_type": "stream",
     "text": [
      "center 2x2: [[65 23]\n",
      " [56 36]]\n"
     ]
    }
   ],
   "source": [
    "print(\"center 2x2:\",arr [1:3,1:3])"
   ]
  },
  {
   "cell_type": "code",
   "execution_count": 35,
   "id": "2a1ff16a-8820-43d8-8667-138a5ca92828",
   "metadata": {},
   "outputs": [
    {
     "name": "stdout",
     "output_type": "stream",
     "text": [
      "reshaped [[34 54 23]\n",
      " [45 65 23]\n",
      " [23 56 36]]\n"
     ]
    }
   ],
   "source": [
    "print(\"reshaped\", arr.reshape(3,3))"
   ]
  },
  {
   "cell_type": "code",
   "execution_count": 47,
   "id": "e758ecb2-47ad-4a41-b088-b61823aec11f",
   "metadata": {},
   "outputs": [
    {
     "name": "stdout",
     "output_type": "stream",
     "text": [
      "reshaped to 3x3: [[34 54 23]\n",
      " [45 65 23]\n",
      " [23 56 36]]\n"
     ]
    }
   ],
   "source": [
    "print(\"reshaped to 3x3:\",arr.reshape(3,3))"
   ]
  },
  {
   "cell_type": "code",
   "execution_count": 49,
   "id": "daa3727d-fb0a-475e-a35c-e99662f6a2fa",
   "metadata": {},
   "outputs": [
    {
     "name": "stdout",
     "output_type": "stream",
     "text": [
      "add 10: [[44 64 33]\n",
      " [55 75 33]\n",
      " [33 66 46]]\n"
     ]
    }
   ],
   "source": [
    "print(\"add 10:\",arr+10)"
   ]
  },
  {
   "cell_type": "code",
   "execution_count": 55,
   "id": "4585a862-f4c2-4430-89f4-0846758f48c6",
   "metadata": {},
   "outputs": [
    {
     "name": "stdout",
     "output_type": "stream",
     "text": [
      "row multiplication: [[ 34 108  92]\n",
      " [ 45 130  92]\n",
      " [ 23 112 144]]\n"
     ]
    }
   ],
   "source": [
    "print(\"row multiplication:\",arr*np.array([1,2,4]))\n"
   ]
  },
  {
   "cell_type": "code",
   "execution_count": 65,
   "id": "b1e52934-03c7-4170-ba12-1982ac38100c",
   "metadata": {},
   "outputs": [
    {
     "name": "stdout",
     "output_type": "stream",
     "text": [
      "subtract column means: [[ -3.           9.66666667 -15.33333333]\n",
      " [  8.          20.66666667 -15.33333333]\n",
      " [-14.          11.66666667  -2.33333333]]\n"
     ]
    }
   ],
   "source": [
    "column = arr.mean(axis=1)\n",
    "print(\"subtract column means:\",arr-column)"
   ]
  },
  {
   "cell_type": "code",
   "execution_count": 77,
   "id": "eceb91ad-db1e-4e9d-b1db-9fe22f096339",
   "metadata": {},
   "outputs": [
    {
     "name": "stdout",
     "output_type": "stream",
     "text": [
      "elementwise multiplication [[ 5 12]\n",
      " [21 32]]\n"
     ]
    }
   ],
   "source": [
    "a = np.array([[1,2],[3,4]])\n",
    "b = np.array([[5,6],[7,8]])\n",
    "print(\"elementwise multiplication\", a * b)"
   ]
  },
  {
   "cell_type": "code",
   "execution_count": 79,
   "id": "9fd38fba-f9db-4da3-b176-a5e5f29abf5e",
   "metadata": {},
   "outputs": [
    {
     "name": "stdout",
     "output_type": "stream",
     "text": [
      "matrix multiplication [[19 22]\n",
      " [43 50]]\n"
     ]
    }
   ],
   "source": [
    "print(\"matrix multiplication\",np.dot(a,b))"
   ]
  },
  {
   "cell_type": "code",
   "execution_count": 85,
   "id": "a7a8a466-5bab-43e1-abc9-02233db21bf5",
   "metadata": {},
   "outputs": [
    {
     "name": "stdout",
     "output_type": "stream",
     "text": [
      "vertical stack [[1 2]\n",
      " [3 4]\n",
      " [5 6]\n",
      " [7 8]]\n"
     ]
    }
   ],
   "source": [
    "print(\"vertical stack\",np.vstack((a,b)))"
   ]
  },
  {
   "cell_type": "code",
   "execution_count": 87,
   "id": "d725fa4c-821e-4141-ae02-3298a3f92bf0",
   "metadata": {},
   "outputs": [
    {
     "name": "stdout",
     "output_type": "stream",
     "text": [
      "element >5 [34 54 23 45 65 23 23 56 36]\n"
     ]
    }
   ],
   "source": [
    "print(\"element >5\",arr[arr>5])"
   ]
  },
  {
   "cell_type": "code",
   "execution_count": 89,
   "id": "65dab413-27f2-4907-a3c9-7dadde694dce",
   "metadata": {},
   "outputs": [
    {
     "name": "stdout",
     "output_type": "stream",
     "text": [
      "square roots: [[5.83095189 7.34846923 4.79583152]\n",
      " [6.70820393 8.06225775 4.79583152]\n",
      " [4.79583152 7.48331477 6.        ]]\n"
     ]
    }
   ],
   "source": [
    "print(\"square roots:\",np.sqrt(arr))"
   ]
  },
  {
   "cell_type": "code",
   "execution_count": 91,
   "id": "4b4bd710-6ce7-4c8e-a05f-f21530cfcdc7",
   "metadata": {},
   "outputs": [],
   "source": [
    "matrix = np.array([[1, 2, 3], \n",
    "                   [4, 5, 6], \n",
    "                   [7, 8, 9]])\n",
    "subset = matrix[:2, :] \n",
    "col_means = matrix.mean(axis=0)\n",
    "normalized = matrix - col_means"
   ]
  },
  {
   "cell_type": "code",
   "execution_count": null,
   "id": "fdfc223c-f44a-4033-9a85-5900229c6ebc",
   "metadata": {},
   "outputs": [],
   "source": []
  }
 ],
 "metadata": {
  "kernelspec": {
   "display_name": "Python [conda env:base] *",
   "language": "python",
   "name": "conda-base-py"
  },
  "language_info": {
   "codemirror_mode": {
    "name": "ipython",
    "version": 3
   },
   "file_extension": ".py",
   "mimetype": "text/x-python",
   "name": "python",
   "nbconvert_exporter": "python",
   "pygments_lexer": "ipython3",
   "version": "3.12.7"
  }
 },
 "nbformat": 4,
 "nbformat_minor": 5
}
